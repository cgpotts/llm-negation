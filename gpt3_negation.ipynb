{
 "cells": [
  {
   "cell_type": "markdown",
   "id": "a44fd08a-14c1-470d-a251-794f65856110",
   "metadata": {},
   "source": [
    "# What does GPT-3 really understand about negation?"
   ]
  },
  {
   "cell_type": "code",
   "execution_count": 1,
   "id": "0ff6bd20-a37e-47bd-be68-4485fdf11d18",
   "metadata": {},
   "outputs": [],
   "source": [
    "__author__ = \"Christopher Potts\"\n",
    "\n",
    "__date__ = \"2022-10-09\""
   ]
  },
  {
   "cell_type": "markdown",
   "id": "8b57ac54-9eb2-44f1-88a8-a5cc5495c342",
   "metadata": {},
   "source": [
    "## Set-up"
   ]
  },
  {
   "cell_type": "code",
   "execution_count": 2,
   "id": "f7eb1f00-ced7-4a51-bac8-609da8210ed3",
   "metadata": {},
   "outputs": [],
   "source": [
    "import openai\n",
    "import pandas as pd\n",
    "import re"
   ]
  },
  {
   "cell_type": "code",
   "execution_count": 3,
   "id": "28637e19-10a6-4ba2-88d1-e1d163b110da",
   "metadata": {},
   "outputs": [],
   "source": [
    "# Add you API key here to re-run the experiments:\n",
    "\n",
    "openai.api_key = None"
   ]
  },
  {
   "cell_type": "code",
   "execution_count": 4,
   "id": "fdd7b2ef-0b03-48c0-8674-169fecc3e232",
   "metadata": {},
   "outputs": [],
   "source": [
    "pd.set_option('max_colwidth', 999)\n",
    "pd.set_option('display.max_rows', 999)\n",
    "pd.set_option('display.max_columns', 999)"
   ]
  },
  {
   "cell_type": "markdown",
   "id": "4e42d842-e413-4de6-9739-0737e7325427",
   "metadata": {},
   "source": [
    "## Dataset\n",
    "\n",
    "This is a sample from a dataset created by Selena She and Atticus Geiger, extending the MoNLI dataset of https://aclanthology.org/2020.blackboxnlp-1.16/"
   ]
  },
  {
   "cell_type": "code",
   "execution_count": 5,
   "id": "3a02f62d-5faa-49c3-89f4-e257c87c6375",
   "metadata": {},
   "outputs": [],
   "source": [
    "DATASET = pd.read_csv(\"extended-monli-sample.csv\")"
   ]
  },
  {
   "cell_type": "code",
   "execution_count": 6,
   "id": "6868dc45-7a9e-4432-bb38-dd8b65cba571",
   "metadata": {},
   "outputs": [
    {
     "data": {
      "text/plain": [
       "200"
      ]
     },
     "execution_count": 6,
     "metadata": {},
     "output_type": "execute_result"
    }
   ],
   "source": [
    "DATASET.shape[0]"
   ]
  },
  {
   "cell_type": "code",
   "execution_count": 7,
   "id": "e93e0c0a-d886-4056-b509-ab6f403be27f",
   "metadata": {},
   "outputs": [],
   "source": [
    "overview = DATASET.groupby('split').apply(lambda s: s.groupby('gold_label').sample(1, random_state=1)).reset_index(drop=True)\n",
    "overview = overview[['split', 'sentence1', 'gold_label', 'sentence2']]"
   ]
  },
  {
   "cell_type": "code",
   "execution_count": 8,
   "id": "03742b7c-36de-4cae-83d9-61d77066f74b",
   "metadata": {},
   "outputs": [
    {
     "data": {
      "text/html": [
       "<div>\n",
       "<style scoped>\n",
       "    .dataframe tbody tr th:only-of-type {\n",
       "        vertical-align: middle;\n",
       "    }\n",
       "\n",
       "    .dataframe tbody tr th {\n",
       "        vertical-align: top;\n",
       "    }\n",
       "\n",
       "    .dataframe thead th {\n",
       "        text-align: right;\n",
       "    }\n",
       "</style>\n",
       "<table border=\"1\" class=\"dataframe\">\n",
       "  <thead>\n",
       "    <tr style=\"text-align: right;\">\n",
       "      <th></th>\n",
       "      <th>split</th>\n",
       "      <th>sentence1</th>\n",
       "      <th>gold_label</th>\n",
       "      <th>sentence2</th>\n",
       "    </tr>\n",
       "  </thead>\n",
       "  <tbody>\n",
       "    <tr>\n",
       "      <th>0</th>\n",
       "      <td>both not scoping</td>\n",
       "      <td>The not allergic person did like cranberries but prefers not to eat vegetables.</td>\n",
       "      <td>entailment</td>\n",
       "      <td>The not allergic person did like fruit but prefers not to eat vegetables.</td>\n",
       "    </tr>\n",
       "    <tr>\n",
       "      <th>1</th>\n",
       "      <td>both not scoping</td>\n",
       "      <td>A man who is not here is holding something, but not in his hands.</td>\n",
       "      <td>neutral</td>\n",
       "      <td>A man who is not here is holding stamps, but not in his hands.</td>\n",
       "    </tr>\n",
       "    <tr>\n",
       "      <th>2</th>\n",
       "      <td>one not scoping</td>\n",
       "      <td>The skier noticed a large elm branch dragging behind him but did not move it.</td>\n",
       "      <td>entailment</td>\n",
       "      <td>The skier noticed a large tree branch dragging behind him but did not move it.</td>\n",
       "    </tr>\n",
       "    <tr>\n",
       "      <th>3</th>\n",
       "      <td>one not scoping</td>\n",
       "      <td>the boy plays an instrument, but he does not want to play anymore.</td>\n",
       "      <td>neutral</td>\n",
       "      <td>the boy plays a fiddle, but he does not want to play anymore.</td>\n",
       "    </tr>\n",
       "    <tr>\n",
       "      <th>4</th>\n",
       "      <td>one scoping</td>\n",
       "      <td>The guests do not have food.</td>\n",
       "      <td>entailment</td>\n",
       "      <td>The guests do not have rice.</td>\n",
       "    </tr>\n",
       "    <tr>\n",
       "      <th>5</th>\n",
       "      <td>one scoping</td>\n",
       "      <td>A child is not tossing blocks</td>\n",
       "      <td>neutral</td>\n",
       "      <td>A child is not tossing anything</td>\n",
       "    </tr>\n",
       "    <tr>\n",
       "      <th>6</th>\n",
       "      <td>one scoping, one not</td>\n",
       "      <td>People who are not wealthy do not have any computers</td>\n",
       "      <td>entailment</td>\n",
       "      <td>People who are not wealthy do not have any laptops</td>\n",
       "    </tr>\n",
       "    <tr>\n",
       "      <th>7</th>\n",
       "      <td>one scoping, one not</td>\n",
       "      <td>The woman who did not like clothes did not like meatloaf.</td>\n",
       "      <td>neutral</td>\n",
       "      <td>The woman who did not like clothes did not like meat.</td>\n",
       "    </tr>\n",
       "  </tbody>\n",
       "</table>\n",
       "</div>"
      ],
      "text/plain": [
       "                  split  \\\n",
       "0      both not scoping   \n",
       "1      both not scoping   \n",
       "2       one not scoping   \n",
       "3       one not scoping   \n",
       "4           one scoping   \n",
       "5           one scoping   \n",
       "6  one scoping, one not   \n",
       "7  one scoping, one not   \n",
       "\n",
       "                                                                         sentence1  \\\n",
       "0  The not allergic person did like cranberries but prefers not to eat vegetables.   \n",
       "1                A man who is not here is holding something, but not in his hands.   \n",
       "2    The skier noticed a large elm branch dragging behind him but did not move it.   \n",
       "3               the boy plays an instrument, but he does not want to play anymore.   \n",
       "4                                                     The guests do not have food.   \n",
       "5                                                    A child is not tossing blocks   \n",
       "6                             People who are not wealthy do not have any computers   \n",
       "7                        The woman who did not like clothes did not like meatloaf.   \n",
       "\n",
       "   gold_label  \\\n",
       "0  entailment   \n",
       "1     neutral   \n",
       "2  entailment   \n",
       "3     neutral   \n",
       "4  entailment   \n",
       "5     neutral   \n",
       "6  entailment   \n",
       "7     neutral   \n",
       "\n",
       "                                                                        sentence2  \n",
       "0       The not allergic person did like fruit but prefers not to eat vegetables.  \n",
       "1                  A man who is not here is holding stamps, but not in his hands.  \n",
       "2  The skier noticed a large tree branch dragging behind him but did not move it.  \n",
       "3                   the boy plays a fiddle, but he does not want to play anymore.  \n",
       "4                                                    The guests do not have rice.  \n",
       "5                                                 A child is not tossing anything  \n",
       "6                              People who are not wealthy do not have any laptops  \n",
       "7                           The woman who did not like clothes did not like meat.  "
      ]
     },
     "execution_count": 8,
     "metadata": {},
     "output_type": "execute_result"
    }
   ],
   "source": [
    "overview"
   ]
  },
  {
   "cell_type": "code",
   "execution_count": 9,
   "id": "358c83cf-8f75-4ff1-ab07-bf52f2e94cbd",
   "metadata": {},
   "outputs": [
    {
     "name": "stdout",
     "output_type": "stream",
     "text": [
      "\\begin{tabular}{llll}\n",
      "\\toprule\n",
      "                split &                                                                        sentence1 &  gold\\_label &                                                                       sentence2 \\\\\n",
      "\\midrule\n",
      "     both not scoping &  The not allergic person did like cranberries but prefers not to eat vegetables. &  entailment &       The not allergic person did like fruit but prefers not to eat vegetables. \\\\\n",
      "     both not scoping &                A man who is not here is holding something, but not in his hands. &     neutral &                  A man who is not here is holding stamps, but not in his hands. \\\\\n",
      "      one not scoping &    The skier noticed a large elm branch dragging behind him but did not move it. &  entailment &  The skier noticed a large tree branch dragging behind him but did not move it. \\\\\n",
      "      one not scoping &               the boy plays an instrument, but he does not want to play anymore. &     neutral &                   the boy plays a fiddle, but he does not want to play anymore. \\\\\n",
      "          one scoping &                                                     The guests do not have food. &  entailment &                                                    The guests do not have rice. \\\\\n",
      "          one scoping &                                                    A child is not tossing blocks &     neutral &                                                 A child is not tossing anything \\\\\n",
      " one scoping, one not &                             People who are not wealthy do not have any computers &  entailment &                              People who are not wealthy do not have any laptops \\\\\n",
      " one scoping, one not &                        The woman who did not like clothes did not like meatloaf. &     neutral &                           The woman who did not like clothes did not like meat. \\\\\n",
      "\\bottomrule\n",
      "\\end{tabular}\n",
      "\n"
     ]
    }
   ],
   "source": [
    "# LaTex version of the above for the write-up:\n",
    "\n",
    "print(overview.to_latex(index=None))"
   ]
  },
  {
   "cell_type": "code",
   "execution_count": 10,
   "id": "0990776b-b924-47a9-9983-6ef3d0cd4701",
   "metadata": {},
   "outputs": [
    {
     "data": {
      "text/plain": [
       "entailment    100\n",
       "neutral       100\n",
       "Name: gold_label, dtype: int64"
      ]
     },
     "execution_count": 10,
     "metadata": {},
     "output_type": "execute_result"
    }
   ],
   "source": [
    "DATASET.gold_label.value_counts()"
   ]
  },
  {
   "cell_type": "code",
   "execution_count": 11,
   "id": "e25ef09c-5158-4a02-8e1e-c2dd230e68e4",
   "metadata": {},
   "outputs": [
    {
     "name": "stdout",
     "output_type": "stream",
     "text": [
      "\\begin{tabular}{lr}\n",
      "\\toprule\n",
      "{} &  split \\\\\n",
      "\\midrule\n",
      "one scoping, one not &     50 \\\\\n",
      "one not scoping      &     50 \\\\\n",
      "one scoping          &     50 \\\\\n",
      "both not scoping     &     50 \\\\\n",
      "\\bottomrule\n",
      "\\end{tabular}\n",
      "\n"
     ]
    }
   ],
   "source": [
    "print(DATASET.split.value_counts().to_latex())"
   ]
  },
  {
   "cell_type": "code",
   "execution_count": 12,
   "id": "2baf5b3b-da8c-49ec-bc27-0e5e4ca78152",
   "metadata": {},
   "outputs": [
    {
     "name": "stdout",
     "output_type": "stream",
     "text": [
      "\\begin{tabular}{lrr}\n",
      "\\toprule\n",
      "gold\\_label &  entailment &  neutral \\\\\n",
      "split                &             &          \\\\\n",
      "\\midrule\n",
      "both not scoping     &          25 &       25 \\\\\n",
      "one not scoping      &          25 &       25 \\\\\n",
      "one scoping          &          25 &       25 \\\\\n",
      "one scoping, one not &          25 &       25 \\\\\n",
      "\\bottomrule\n",
      "\\end{tabular}\n",
      "\n"
     ]
    }
   ],
   "source": [
    "print(pd.crosstab(DATASET.split, DATASET.gold_label).to_latex())"
   ]
  },
  {
   "cell_type": "markdown",
   "id": "0dea844d-60b3-45c4-984a-802128f2fbe3",
   "metadata": {},
   "source": [
    "## Prompts"
   ]
  },
  {
   "cell_type": "code",
   "execution_count": 13,
   "id": "da9881e9-5149-43ce-8590-c5bdb88f3d32",
   "metadata": {},
   "outputs": [],
   "source": [
    "toy_example = {\"sentence1\": \"We didn't eat pizza\", \"sentence2\": \"We didn't eat food\", 'split': 'one scoping'}"
   ]
  },
  {
   "cell_type": "markdown",
   "id": "2f2405f1-be8b-457f-a4d5-6ce51aae75f0",
   "metadata": {},
   "source": [
    "### Conditional questions"
   ]
  },
  {
   "cell_type": "code",
   "execution_count": 14,
   "id": "1ca3745c-d170-4742-a78a-f392343509ba",
   "metadata": {},
   "outputs": [],
   "source": [
    "def conditional_question_prompt(row, i=None):   \n",
    "    prem = _mid_sentence_normalization(row['sentence1'])\n",
    "    hyp = _mid_sentence_normalization(row['sentence2'])    \n",
    "    if i is None:\n",
    "        prompt = f\"Is it true that if {prem}, then {hyp}?\"\n",
    "    # Few-shot demonstration case:\n",
    "    else:\n",
    "        ans = \"Yes\" if row['gold_label'] == 'entailment' else \"Maybe\"\n",
    "        prompt = f\"Q{i}: Is it true that if {prem}, then {hyp}?\\nA{i}: {ans}\"\n",
    "    return prompt\n",
    "\n",
    "\n",
    "def _mid_sentence_normalization(s):\n",
    "    s = s[0].lower() + s[1: ]\n",
    "    s = s.rstrip(\".\")\n",
    "    return s"
   ]
  },
  {
   "cell_type": "code",
   "execution_count": 15,
   "id": "ebbf9142-5b38-4280-b64b-77d848032e12",
   "metadata": {},
   "outputs": [
    {
     "name": "stdout",
     "output_type": "stream",
     "text": [
      "Is it true that if we didn't eat pizza, then we didn't eat food?\n"
     ]
    }
   ],
   "source": [
    "print(conditional_question_prompt(toy_example))"
   ]
  },
  {
   "cell_type": "markdown",
   "id": "b7660961-3c68-4107-84ca-0df3bad375f3",
   "metadata": {},
   "source": [
    "### Few-shot conditional questions"
   ]
  },
  {
   "cell_type": "code",
   "execution_count": 16,
   "id": "ffc0d6d8-b935-41a6-8857-4cb32c9297ef",
   "metadata": {},
   "outputs": [],
   "source": [
    "def few_shot_conditional_question_prompt(row, n=3):\n",
    "    splitname = row['split']\n",
    "    demos = _sample_demos(row, n)\n",
    "    strs = [conditional_question_prompt(row, i+1) for i, row in demos.iterrows()]\n",
    "    strs.append(\"Q: \" + conditional_question_prompt(row) + \"\\nA:\")\n",
    "    return \"\\n\\n\".join(strs)\n",
    "\n",
    "\n",
    "def _sample_demos(row, n):\n",
    "    # Demonstrations are different examples from the same split,\n",
    "    # and we get 2 per label:\n",
    "    split = DATASET[\n",
    "        (DATASET.split == row['split']) & \n",
    "        (DATASET.sentence1 != row['sentence1']) & \n",
    "        (DATASET.sentence2 != row['sentence2'])\n",
    "    ]        \n",
    "    demos = split.groupby('gold_label').sample(2).reset_index()\n",
    "    return demos"
   ]
  },
  {
   "cell_type": "code",
   "execution_count": 17,
   "id": "e68fb8a0-d1a9-4f71-8a25-662ceec6fe41",
   "metadata": {},
   "outputs": [
    {
     "name": "stdout",
     "output_type": "stream",
     "text": [
      "Q1: Is it true that if the girls are cutting the cake and not letting any man cut it, then the girls are cutting the cake and not letting any boyfriends cut it?\n",
      "A1: Yes\n",
      "\n",
      "Q2: Is it true that if the man is not listening to music, then the man is not listening to reggae?\n",
      "A2: Yes\n",
      "\n",
      "Q3: Is it true that if the three children are not holding ferns, then the three children are not holding plants?\n",
      "A3: Maybe\n",
      "\n",
      "Q4: Is it true that if there is not a tugboat nearby, then there is not a boat nearby?\n",
      "A4: Maybe\n",
      "\n",
      "Q: Is it true that if we didn't eat pizza, then we didn't eat food?\n",
      "A:\n"
     ]
    }
   ],
   "source": [
    "print(few_shot_conditional_question_prompt(toy_example))"
   ]
  },
  {
   "cell_type": "markdown",
   "id": "3404b401-6c02-4c31-8a99-3482b8a34503",
   "metadata": {},
   "source": [
    "### Hypothesis questions"
   ]
  },
  {
   "cell_type": "code",
   "execution_count": 18,
   "id": "3faf5c1b-9e49-4606-bff7-90d8a0b868d9",
   "metadata": {},
   "outputs": [],
   "source": [
    "def hypothesis_question_prompt(row, i=None):   \n",
    "    prem = _mid_sentence_normalization(row['sentence1'])\n",
    "    hyp = _mid_sentence_normalization(row['sentence2'])    \n",
    "    if i is None:\n",
    "        prompt = f\"Assume that {prem}. Is it then definitely true that {hyp}? Answer Yes or No.\"\n",
    "    # Few-shot demonstration case:\n",
    "    else:\n",
    "        ans = \"Yes\" if row['gold_label'] == 'entailment' else \"No\"\n",
    "        prompt = f\"Q{i}: Assume that {prem}. Is it then definitely true that {hyp}? Answer Yes or No.\\nA{i}: {ans}\"\n",
    "    return prompt"
   ]
  },
  {
   "cell_type": "code",
   "execution_count": 19,
   "id": "c8f4819b-198f-457e-b50c-dfdd802903d5",
   "metadata": {},
   "outputs": [
    {
     "name": "stdout",
     "output_type": "stream",
     "text": [
      "Assume that we didn't eat pizza. Is it then definitely true that we didn't eat food? Answer Yes or No.\n"
     ]
    }
   ],
   "source": [
    "print(hypothesis_question_prompt(toy_example))"
   ]
  },
  {
   "cell_type": "markdown",
   "id": "9646d6c3-9663-4036-a3d3-31c8a30fa649",
   "metadata": {},
   "source": [
    "### Few-shot hypothesis questions"
   ]
  },
  {
   "cell_type": "code",
   "execution_count": 20,
   "id": "6373c5f3-89b1-4a72-8f77-0278070d4a03",
   "metadata": {},
   "outputs": [],
   "source": [
    "def few_shot_hypothesis_question_prompt(row, n=3):\n",
    "    splitname = row['split']\n",
    "    demos = _sample_demos(row, n)\n",
    "    strs = [hypothesis_question_prompt(row, i+1) for i, row in demos.iterrows()]\n",
    "    strs.append(\"Q: \" + hypothesis_question_prompt(row) + \"\\nA:\")\n",
    "    return \"\\n\\n\".join(strs)"
   ]
  },
  {
   "cell_type": "code",
   "execution_count": 21,
   "id": "c451d0cc-ad56-44fe-b978-3f2b5f810f8e",
   "metadata": {},
   "outputs": [
    {
     "name": "stdout",
     "output_type": "stream",
     "text": [
      "Q1: Assume that the men were outside trying to keep their voices down so as not to waken any woman indoors. Is it then definitely true that the men were outside trying to keep their voices down so as not to waken any bachelorette indoors? Answer Yes or No.\n",
      "A1: Yes\n",
      "\n",
      "Q2: Assume that the woman is not wearing jewelry. Is it then definitely true that the woman is not wearing rings? Answer Yes or No.\n",
      "A2: Yes\n",
      "\n",
      "Q3: Assume that there is not a single Democrat walking in the city. Is it then definitely true that there is not a single person walking in the city? Answer Yes or No.\n",
      "A3: No\n",
      "\n",
      "Q4: Assume that the man is not listening to polka. Is it then definitely true that the man is not listening to music? Answer Yes or No.\n",
      "A4: No\n",
      "\n",
      "Q: Assume that we didn't eat pizza. Is it then definitely true that we didn't eat food? Answer Yes or No.\n",
      "A:\n"
     ]
    }
   ],
   "source": [
    "print(few_shot_hypothesis_question_prompt(toy_example))"
   ]
  },
  {
   "cell_type": "markdown",
   "id": "fb31bfb1-5ddd-4c35-9084-f32afd570166",
   "metadata": {},
   "source": [
    "### Conditional truth evaluation"
   ]
  },
  {
   "cell_type": "code",
   "execution_count": 22,
   "id": "c8bfe071-30b3-4ae2-a233-3a8cc5924132",
   "metadata": {},
   "outputs": [],
   "source": [
    "def conditional_truth_evaluation_prompt(row, i=None):\n",
    "    prem = _mid_sentence_normalization(row['sentence1'])\n",
    "    hyp = _mid_sentence_normalization(row['sentence2'])\n",
    "    if i is None:    \n",
    "        prompt = f\"If {prem}, then {hyp}. Is this true?\" \n",
    "    # Few-shot demonstration case:\n",
    "    else:\n",
    "        ans = \"Yes\" if row['gold_label'] == 'entailment' else \"Maybe\"\n",
    "        prompt = f\"C{i}: If {prem}, then {hyp}. Is this true?\\nA{i}: {ans}\"\n",
    "    return prompt"
   ]
  },
  {
   "cell_type": "code",
   "execution_count": 23,
   "id": "76436daa-f2a4-440e-a481-f6afcbe0a8a0",
   "metadata": {},
   "outputs": [
    {
     "name": "stdout",
     "output_type": "stream",
     "text": [
      "If we didn't eat pizza, then we didn't eat food. Is this true?\n"
     ]
    }
   ],
   "source": [
    "print(conditional_truth_evaluation_prompt(toy_example))"
   ]
  },
  {
   "cell_type": "code",
   "execution_count": 24,
   "id": "f1385bbf-1543-4ed9-8931-9d2772ed99dc",
   "metadata": {},
   "outputs": [],
   "source": [
    "def few_shot_conditional_truth_evaluation_prompt(row, n=3):\n",
    "    splitname = row['split']\n",
    "    demos = _sample_demos(row, n)\n",
    "    strs = [conditional_truth_evaluation_prompt(row, i+1) for i, row in demos.iterrows()]\n",
    "    strs.append(\"C:\" + conditional_truth_evaluation_prompt(row) + \"\\nA:\")\n",
    "    return \"\\n\\n\".join(strs)"
   ]
  },
  {
   "cell_type": "markdown",
   "id": "87853674-4859-4e31-a1a4-ddeee1783536",
   "metadata": {},
   "source": [
    "### Few-shot conditional truth evaluation"
   ]
  },
  {
   "cell_type": "code",
   "execution_count": 25,
   "id": "b253da1d-f86f-4a13-8312-1bf4e16a851a",
   "metadata": {},
   "outputs": [
    {
     "name": "stdout",
     "output_type": "stream",
     "text": [
      "C1: If the guests do not have food, then the guests do not have rice. Is this true?\n",
      "A1: Yes\n",
      "\n",
      "C2: If there is not a single person walking in the city, then there is not a single official walking in the city. Is this true?\n",
      "A2: Yes\n",
      "\n",
      "C3: If there is not a single Democrat walking in the city, then there is not a single person walking in the city. Is this true?\n",
      "A3: Maybe\n",
      "\n",
      "C4: If the diver has not seen any tuna on his dive, then the diver has not seen any fish on his dive. Is this true?\n",
      "A4: Maybe\n",
      "\n",
      "C:If we didn't eat pizza, then we didn't eat food. Is this true?\n",
      "A:\n"
     ]
    }
   ],
   "source": [
    "print(few_shot_conditional_truth_evaluation_prompt(toy_example))"
   ]
  },
  {
   "cell_type": "markdown",
   "id": "49a95b0f-1800-4995-82c0-0e5f8b04fbc4",
   "metadata": {},
   "source": [
    "### Brown et al.-style\n",
    "\n",
    "Adapted from https://arxiv.org/abs/2005.14165"
   ]
  },
  {
   "cell_type": "code",
   "execution_count": 26,
   "id": "a3139744-5354-4ee6-9d9f-b63afcad3850",
   "metadata": {},
   "outputs": [],
   "source": [
    "def brown_et_al_style_prompt(row, i=None):\n",
    "    prem = row['sentence1']\n",
    "    hyp = row['sentence2']\n",
    "    hyp = hyp.rstrip(\".\")\n",
    "    if i is None:\n",
    "        prompt = f\"C: {prem}\\nQ: {hyp}. Yes, No, or Maybe?\"\n",
    "    # Few-shot demonstration case:\n",
    "    else:\n",
    "        ans = \"Yes\" if row['gold_label'] == 'entailment' else \"Maybe\"\n",
    "        prompt = f\"C{i}: {prem}\\nQ{i}: {hyp}. Yes, No, or Maybe?\\nA{i+1}: {ans}\"\n",
    "    return prompt"
   ]
  },
  {
   "cell_type": "code",
   "execution_count": 27,
   "id": "988a0cf7-5315-420b-a19f-f70b0d26aa53",
   "metadata": {},
   "outputs": [
    {
     "name": "stdout",
     "output_type": "stream",
     "text": [
      "C: We didn't eat pizza\n",
      "Q: We didn't eat food. Yes, No, or Maybe?\n"
     ]
    }
   ],
   "source": [
    "print(brown_et_al_style_prompt(toy_example))"
   ]
  },
  {
   "cell_type": "markdown",
   "id": "87e28133-b706-470a-8e39-25a24b2b2fa9",
   "metadata": {},
   "source": [
    "### Few-shot Brown et al.-style"
   ]
  },
  {
   "cell_type": "code",
   "execution_count": 28,
   "id": "ab681a7f-cbe5-4754-8f1a-5d175b1cdeff",
   "metadata": {},
   "outputs": [],
   "source": [
    "def few_shot_brown_et_al_style_prompt(row, n=3):\n",
    "    demos = _sample_demos(row, n) \n",
    "    strs = [brown_et_al_style_prompt(row, i+1) for i, row in demos.iterrows()]\n",
    "    strs.append(brown_et_al_style_prompt(row) + \"\\nA:\")\n",
    "    return \"\\n\\n\".join(strs)   "
   ]
  },
  {
   "cell_type": "code",
   "execution_count": 29,
   "id": "7c4ebd59-30df-42aa-95fa-7389371e47ab",
   "metadata": {},
   "outputs": [
    {
     "name": "stdout",
     "output_type": "stream",
     "text": [
      "C1: The woman is not wearing jewelry\n",
      "Q1: The woman is not wearing necklaces. Yes, No, or Maybe?\n",
      "A2: Yes\n",
      "\n",
      "C2: A woman did not like any food.\n",
      "Q2: A woman did not like any pudding. Yes, No, or Maybe?\n",
      "A3: Yes\n",
      "\n",
      "C3: The man is not listening to polka.\n",
      "Q3: The man is not listening to music. Yes, No, or Maybe?\n",
      "A4: Maybe\n",
      "\n",
      "C4: A child is not tossing blocks\n",
      "Q4: A child is not tossing anything. Yes, No, or Maybe?\n",
      "A5: Maybe\n",
      "\n",
      "C: We didn't eat pizza\n",
      "Q: We didn't eat food. Yes, No, or Maybe?\n",
      "A:\n"
     ]
    }
   ],
   "source": [
    "print(few_shot_brown_et_al_style_prompt(toy_example))"
   ]
  },
  {
   "cell_type": "markdown",
   "id": "21e812dd-f329-40df-8be8-8a04a06848b3",
   "metadata": {},
   "source": [
    "### Structured"
   ]
  },
  {
   "cell_type": "code",
   "execution_count": 30,
   "id": "6633569d-f3b6-449a-81b6-688051b36775",
   "metadata": {},
   "outputs": [],
   "source": [
    "def structured_prompt(row, i=None):\n",
    "    prem = row['sentence1']\n",
    "    hyp = row['sentence2']    \n",
    "    if i is None:    \n",
    "        prompt = f\"P: {prem}\\nH: {hyp}\\nL:\"\n",
    "    # Few-shot demonstration case:\n",
    "    else:\n",
    "        prompt = f\"P{i}: {prem}\\nH{i}: {hyp}\\nL{i}: {row['gold_label']}\"\n",
    "    return prompt"
   ]
  },
  {
   "cell_type": "code",
   "execution_count": 31,
   "id": "d2643a0b-1475-4e3c-a288-a59bdf5a4cb0",
   "metadata": {},
   "outputs": [
    {
     "name": "stdout",
     "output_type": "stream",
     "text": [
      "P: We didn't eat pizza\n",
      "H: We didn't eat food\n",
      "L:\n"
     ]
    }
   ],
   "source": [
    "print(structured_prompt(toy_example))"
   ]
  },
  {
   "cell_type": "markdown",
   "id": "4a0d6307-c100-42f1-a82b-63d63558c379",
   "metadata": {},
   "source": [
    "### Few-shot structured"
   ]
  },
  {
   "cell_type": "code",
   "execution_count": 32,
   "id": "edbcc465-b51d-4cbd-b854-dd8fde836dbc",
   "metadata": {},
   "outputs": [],
   "source": [
    "def few_shot_structured_prompt(row, n=3):\n",
    "    demos = _sample_demos(row, n)    \n",
    "    strs = [structured_prompt(row, i+1) for i, row in demos.iterrows()]\n",
    "    strs.append(structured_prompt(row))\n",
    "    return \"\\n\\n\".join(strs) "
   ]
  },
  {
   "cell_type": "code",
   "execution_count": 33,
   "id": "a7f1bfa5-2d08-45f4-85f4-4e8124e4ad82",
   "metadata": {},
   "outputs": [
    {
     "name": "stdout",
     "output_type": "stream",
     "text": [
      "P1: The person did not like any fruit.\n",
      "H1: The person did not like any grapes.\n",
      "L1: entailment\n",
      "\n",
      "P2: The woman is not wearing jewelry\n",
      "H2: The woman is not wearing rings\n",
      "L2: entailment\n",
      "\n",
      "P3: Two people are not fishing from a skiff\n",
      "H3: Two people are not fishing from a boat\n",
      "L3: neutral\n",
      "\n",
      "P4: The man is not listening to polka.\n",
      "H4: The man is not listening to music.\n",
      "L4: neutral\n",
      "\n",
      "P: We didn't eat pizza\n",
      "H: We didn't eat food\n",
      "L:\n"
     ]
    }
   ],
   "source": [
    "print(few_shot_structured_prompt(toy_example))"
   ]
  },
  {
   "cell_type": "markdown",
   "id": "f131f3e8-afbb-46c7-93c2-9bb82ff29a61",
   "metadata": {},
   "source": [
    "### Reasoning\n",
    "\n",
    "Loosely inspired by https://arxiv.org/pdf/2102.07350.pdf, https://arxiv.org/pdf/2201.11903.pdf, and others."
   ]
  },
  {
   "cell_type": "code",
   "execution_count": 34,
   "id": "86a1ab61-c674-44a8-9bb7-bbdde088e069",
   "metadata": {},
   "outputs": [],
   "source": [
    "def reasoning_prompt(row):\n",
    "    prem = row['sentence1']\n",
    "    hyp = row['sentence2']\n",
    "    prem = _mid_sentence_normalization(prem)\n",
    "    hyp = _mid_sentence_normalization(hyp)\n",
    "    prompt = f\"\"\"Logical and commonsense reasoning exam.\n",
    "\n",
    "Explain your reasoning in detail, then answer with Yes or No. Your answers should follow this 4-line format:\n",
    "\n",
    "Premise: <a tricky logical statement about the world>.\n",
    "Question: <question requiring logical deduction>.\n",
    "Reasoning: <an explanation of what you understand about the possible scenarios>.\n",
    "Answer: <Yes or No>.\n",
    "\n",
    "Premise: {prem}\n",
    "Question: Can we logically conclude for sure that {hyp}?\n",
    "Reasoning: Let's think logically step by step. The premise basically tells us that\"\"\"\n",
    "    return prompt"
   ]
  },
  {
   "cell_type": "code",
   "execution_count": 35,
   "id": "0f107c67-e0a6-4652-b8d0-1750a7343adf",
   "metadata": {},
   "outputs": [
    {
     "name": "stdout",
     "output_type": "stream",
     "text": [
      "Logical and commonsense reasoning exam.\n",
      "\n",
      "Explain your reasoning in detail, then answer with Yes or No. Your answers should follow this 4-line format:\n",
      "\n",
      "Premise: <a tricky logical statement about the world>.\n",
      "Question: <question requiring logical deduction>.\n",
      "Reasoning: <an explanation of what you understand about the possible scenarios>.\n",
      "Answer: <Yes or No>.\n",
      "\n",
      "Premise: we didn't eat pizza\n",
      "Question: Can we logically conclude for sure that we didn't eat food?\n",
      "Reasoning: Let's think logically step by step. The premise basically tells us that\n"
     ]
    }
   ],
   "source": [
    "print(reasoning_prompt(toy_example))"
   ]
  },
  {
   "cell_type": "markdown",
   "id": "c54219e7-9434-4246-b753-f7d7f23d5197",
   "metadata": {},
   "source": [
    "## Label inference"
   ]
  },
  {
   "cell_type": "code",
   "execution_count": 36,
   "id": "fc677963-dd7b-432a-8466-3e25e9c2cd7c",
   "metadata": {},
   "outputs": [],
   "source": [
    "def run_gpt3(prompts, engine=\"text-davinci-002\", temperature=0.0, batch_size=10, max_tokens=200, **gpt3_kwargs):    \n",
    "    all_responses = []    \n",
    "    for i in range(0, len(prompts), batch_size):        \n",
    "        response = openai.Completion.create(\n",
    "            engine=engine,       \n",
    "            prompt=prompts[i: i+batch_size],\n",
    "            temperature=temperature,\n",
    "            echo=False,\n",
    "            max_tokens=max_tokens,\n",
    "            n=1,\n",
    "            **gpt3_kwargs)\n",
    "        # We'll keep just the response texts:\n",
    "        all_responses += [d['text'].strip() for d in response['choices']]\n",
    "    return all_responses"
   ]
  },
  {
   "cell_type": "markdown",
   "id": "c196e2c2-401f-4510-90a1-ffcd84ac8b00",
   "metadata": {},
   "source": [
    "## Inferring labels"
   ]
  },
  {
   "cell_type": "code",
   "execution_count": 37,
   "id": "e79a18fe-e3c4-4bec-8dc6-d2dc297a2e91",
   "metadata": {},
   "outputs": [],
   "source": [
    "def infer_label(s):\n",
    "    yes = re.compile(r\"\\byes\\b\", re.I | re.M)     \n",
    "    if yes.search(s):\n",
    "        return \"entailment\"\n",
    "    else:\n",
    "        return \"neutral\" "
   ]
  },
  {
   "cell_type": "markdown",
   "id": "eb3165c2-741b-414d-9b20-af86134852c6",
   "metadata": {},
   "source": [
    "## Experiment wrapper"
   ]
  },
  {
   "cell_type": "code",
   "execution_count": 38,
   "id": "0a7585c7-4e72-495d-b74d-3a9b89aecdd2",
   "metadata": {},
   "outputs": [],
   "source": [
    "def run_experiment(samp, prompt_func, **gpt3_kwargs):\n",
    "    prompt_func_name = prompt_func.__name__        \n",
    "    samp[prompt_func_name] = samp.apply(prompt_func, axis=1)    \n",
    "    responses = run_gpt3(list(samp[prompt_func_name].values), **gpt3_kwargs)    \n",
    "    samp[prompt_func_name + \"_response\"] = responses    \n",
    "    samp[prompt_func_name + \"_prediction\"] = samp[prompt_func_name + \"_response\"].apply(infer_label)    \n",
    "    return samp"
   ]
  },
  {
   "cell_type": "markdown",
   "id": "162a5eeb-be53-4ada-9ff4-1f9beadc3cdd",
   "metadata": {},
   "source": [
    "## Results reporting"
   ]
  },
  {
   "cell_type": "code",
   "execution_count": 39,
   "id": "e33068bb-c7c8-4593-977d-515a5cb599b3",
   "metadata": {},
   "outputs": [],
   "source": [
    "def report_results(samp, prompt_func):\n",
    "    accurate = samp[prompt_func.__name__ + \"_prediction\"] == samp.gold_label\n",
    "    results = pd.crosstab(samp.split, accurate)\n",
    "    results.loc['All'] = results.sum(axis=0)    \n",
    "    acc = results.apply(lambda row: row[True] / row.sum(), axis=1)        \n",
    "    results['Accuracy'] = acc\n",
    "    # Some clean-up for the LaTeX output:\n",
    "    results = results.rename(columns={True: \"Correct\", False: \"Incorrect\"})\n",
    "    results.columns.name = None\n",
    "    results.index.name = None\n",
    "    return results"
   ]
  },
  {
   "cell_type": "markdown",
   "id": "3b4b5fd5-5d1f-4eb3-915b-4cd0ada96874",
   "metadata": {},
   "source": [
    "## Experiments"
   ]
  },
  {
   "cell_type": "markdown",
   "id": "26fd3902-49ad-4811-a676-7126672e4bdc",
   "metadata": {},
   "source": [
    "### Prompt conditions"
   ]
  },
  {
   "cell_type": "code",
   "execution_count": 40,
   "id": "d92abfab-03b8-4d4f-b31b-281a5393037a",
   "metadata": {},
   "outputs": [],
   "source": [
    "prompt_funcs = (\n",
    "    conditional_question_prompt,\n",
    "    few_shot_conditional_question_prompt,\n",
    "    hypothesis_question_prompt,\n",
    "    few_shot_hypothesis_question_prompt,\n",
    "    conditional_truth_evaluation_prompt,\n",
    "    few_shot_conditional_truth_evaluation_prompt,\n",
    "    brown_et_al_style_prompt,\n",
    "    few_shot_brown_et_al_style_prompt,\n",
    "    structured_prompt,\n",
    "    few_shot_structured_prompt,\n",
    "    reasoning_prompt\n",
    ")"
   ]
  },
  {
   "cell_type": "markdown",
   "id": "5ee821fb-9dc6-4ae8-8b67-00cfd01dcf4f",
   "metadata": {},
   "source": [
    "### Experiment loop"
   ]
  },
  {
   "cell_type": "code",
   "execution_count": 41,
   "id": "2388cf04-864b-4d86-9174-da10d7085872",
   "metadata": {},
   "outputs": [
    {
     "name": "stdout",
     "output_type": "stream",
     "text": [
      "conditional_question_prompt\n",
      "few_shot_conditional_question_prompt\n",
      "hypothesis_question_prompt\n",
      "few_shot_hypothesis_question_prompt\n",
      "conditional_truth_evaluation_prompt\n",
      "few_shot_conditional_truth_evaluation_prompt\n",
      "brown_et_al_style_prompt\n",
      "few_shot_brown_et_al_style_prompt\n",
      "structured_prompt\n",
      "few_shot_structured_prompt\n",
      "reasoning_prompt\n"
     ]
    }
   ],
   "source": [
    "for prompt_func in prompt_funcs:\n",
    "    print(prompt_func.__name__)\n",
    "    DATASET = run_experiment(DATASET, prompt_func, max_tokens=200)"
   ]
  },
  {
   "cell_type": "markdown",
   "id": "bca22120-5e4d-4d96-8a7b-9100616bc73f",
   "metadata": {},
   "source": [
    "### Results\n",
    "\n",
    "These are formatted for dirct use in the report."
   ]
  },
  {
   "cell_type": "code",
   "execution_count": 42,
   "id": "1348cb63-28b9-4807-be2f-a103076f39b3",
   "metadata": {},
   "outputs": [
    {
     "name": "stdout",
     "output_type": "stream",
     "text": [
      "%%%%%%%%%%%%%%%%%%%%%%%%%%%%%%%%%%%%%%%%%%%%%%%%%%%%%%%%%%%%%%%%%%%%%%\n",
      "\\subsection{Conditional Question Prompt}\n",
      "\n",
      "\\promptExample{Is it true that if we didn't eat pizza, then we didn't eat food?}\n",
      "\n",
      "\\begin{center}\n",
      "\\begin{tabular}{lrrr}\n",
      "\\toprule\n",
      "{} &  Incorrect &  Correct &  Accuracy \\\\\n",
      "\\midrule\n",
      "both not scoping     &         22 &       28 &      0.56 \\\\\n",
      "one not scoping      &         23 &       27 &      0.54 \\\\\n",
      "one scoping          &         25 &       25 &      0.50 \\\\\n",
      "one scoping, one not &         25 &       25 &      0.50 \\\\\n",
      "All                  &         95 &      105 &      0.53 \\\\\n",
      "\\bottomrule\n",
      "\\end{tabular}\n",
      "\\end{center}\n",
      "\n",
      "%%%%%%%%%%%%%%%%%%%%%%%%%%%%%%%%%%%%%%%%%%%%%%%%%%%%%%%%%%%%%%%%%%%%%%\n",
      "\\subsection{Few-Shot Conditional Question Prompt}\n",
      "\n",
      "\\promptExample{Q1: Is it true that if the men were outside trying to keep their voices down so as not to waken any woman indoors, then the men were outside trying to keep their voices down so as not to waken any bachelorette indoors?\\mynewline\n",
      "A1: Yes\\mynewline\n",
      "\\mynewline\n",
      "Q2: Is it true that if the person did not like any fruit, then the person did not like any cranberries?\\mynewline\n",
      "A2: Yes\\mynewline\n",
      "\\mynewline\n",
      "Q3: Is it true that if the woman is not wearing earrings, then the woman is not wearing jewelry?\\mynewline\n",
      "A3: Maybe\\mynewline\n",
      "\n",
      "Q4: Is it true that if the diver has not seen any tuna on his dive, then the diver has not seen any fish on his dive?\n",
      "A4: Maybe\n",
      "\n",
      "Q: Is it true that if we didn't eat pizza, then we didn't eat food?\n",
      "A:}\n",
      "\n",
      "\\begin{center}\n",
      "\\begin{tabular}{lrrr}\n",
      "\\toprule\n",
      "{} &  Incorrect &  Correct &  Accuracy \\\\\n",
      "\\midrule\n",
      "both not scoping     &         15 &       35 &      0.70 \\\\\n",
      "one not scoping      &         19 &       31 &      0.62 \\\\\n",
      "one scoping          &         26 &       24 &      0.48 \\\\\n",
      "one scoping, one not &         26 &       24 &      0.48 \\\\\n",
      "All                  &         86 &      114 &      0.57 \\\\\n",
      "\\bottomrule\n",
      "\\end{tabular}\n",
      "\\end{center}\n",
      "\n",
      "%%%%%%%%%%%%%%%%%%%%%%%%%%%%%%%%%%%%%%%%%%%%%%%%%%%%%%%%%%%%%%%%%%%%%%\n",
      "\\subsection{Hypothesis Question Prompt}\n",
      "\n",
      "\\promptExample{Assume that we didn't eat pizza. Is it then definitely true that we didn't eat food? Answer Yes or No.}\n",
      "\n",
      "\\begin{center}\n",
      "\\begin{tabular}{lrrr}\n",
      "\\toprule\n",
      "{} &  Incorrect &  Correct &  Accuracy \\\\\n",
      "\\midrule\n",
      "both not scoping     &         20 &       30 &      0.60 \\\\\n",
      "one not scoping      &         22 &       28 &      0.56 \\\\\n",
      "one scoping          &         21 &       29 &      0.58 \\\\\n",
      "one scoping, one not &         21 &       29 &      0.58 \\\\\n",
      "All                  &         84 &      116 &      0.58 \\\\\n",
      "\\bottomrule\n",
      "\\end{tabular}\n",
      "\\end{center}\n",
      "\n",
      "%%%%%%%%%%%%%%%%%%%%%%%%%%%%%%%%%%%%%%%%%%%%%%%%%%%%%%%%%%%%%%%%%%%%%%\n",
      "\\subsection{Few-Shot Hypothesis Question Prompt}\n",
      "\n",
      "\\promptExample{Q1: Assume that the two people are not fishing from a boat. Is it then definitely true that the two people are not fishing from a gondola? Answer Yes or No.\\mynewline\n",
      "A1: Yes\\mynewline\n",
      "\\mynewline\n",
      "Q2: Assume that the guests do not have food. Is it then definitely true that the guests do not have rice? Answer Yes or No.\\mynewline\n",
      "A2: Yes\\mynewline\n",
      "\\mynewline\n",
      "Q3: Assume that the diver has not seen any tuna on his dive. Is it then definitely true that the diver has not seen any fish on his dive? Answer Yes or No.\\mynewline\n",
      "A3: No\\mynewline\n",
      "\n",
      "Q4: Assume that two people are not fishing from a skiff. Is it then definitely true that two people are not fishing from a boat? Answer Yes or No.\n",
      "A4: No\n",
      "\n",
      "Q: Assume that we didn't eat pizza. Is it then definitely true that we didn't eat food? Answer Yes or No.\n",
      "A:}\n",
      "\n",
      "\\begin{center}\n",
      "\\begin{tabular}{lrrr}\n",
      "\\toprule\n",
      "{} &  Incorrect &  Correct &  Accuracy \\\\\n",
      "\\midrule\n",
      "both not scoping     &         10 &       40 &      0.80 \\\\\n",
      "one not scoping      &         19 &       31 &      0.62 \\\\\n",
      "one scoping          &         21 &       29 &      0.58 \\\\\n",
      "one scoping, one not &         25 &       25 &      0.50 \\\\\n",
      "All                  &         75 &      125 &      0.62 \\\\\n",
      "\\bottomrule\n",
      "\\end{tabular}\n",
      "\\end{center}\n",
      "\n",
      "%%%%%%%%%%%%%%%%%%%%%%%%%%%%%%%%%%%%%%%%%%%%%%%%%%%%%%%%%%%%%%%%%%%%%%\n",
      "\\subsection{Conditional Truth Evaluation Prompt}\n",
      "\n",
      "\\promptExample{If we didn't eat pizza, then we didn't eat food. Is this true?}\n",
      "\n",
      "\\begin{center}\n",
      "\\begin{tabular}{lrrr}\n",
      "\\toprule\n",
      "{} &  Incorrect &  Correct &  Accuracy \\\\\n",
      "\\midrule\n",
      "both not scoping     &         21 &       29 &      0.58 \\\\\n",
      "one not scoping      &         20 &       30 &      0.60 \\\\\n",
      "one scoping          &         25 &       25 &      0.50 \\\\\n",
      "one scoping, one not &         25 &       25 &      0.50 \\\\\n",
      "All                  &         91 &      109 &      0.55 \\\\\n",
      "\\bottomrule\n",
      "\\end{tabular}\n",
      "\\end{center}\n",
      "\n",
      "%%%%%%%%%%%%%%%%%%%%%%%%%%%%%%%%%%%%%%%%%%%%%%%%%%%%%%%%%%%%%%%%%%%%%%\n",
      "\\subsection{Few-Shot Conditional Truth Evaluation Prompt}\n",
      "\n",
      "\\promptExample{C1: If the people are not playing instruments, then the people are not playing flutes. Is this true?\\mynewline\n",
      "A1: Yes\\mynewline\n",
      "\\mynewline\n",
      "C2: If the guests do not have food, then the guests do not have rice. Is this true?\\mynewline\n",
      "A2: Yes\\mynewline\n",
      "\\mynewline\n",
      "C3: If the people are not playing tambourines, then the people are not playing instruments. Is this true?\\mynewline\n",
      "A3: Maybe\\mynewline\n",
      "\n",
      "C4: If there is not a single painter walking in the city, then there is not a single person walking in the city. Is this true?\n",
      "A4: Maybe\n",
      "\n",
      "C:If we didn't eat pizza, then we didn't eat food. Is this true?\n",
      "A:}\n",
      "\n",
      "\\begin{center}\n",
      "\\begin{tabular}{lrrr}\n",
      "\\toprule\n",
      "{} &  Incorrect &  Correct &  Accuracy \\\\\n",
      "\\midrule\n",
      "both not scoping     &          8 &       42 &      0.84 \\\\\n",
      "one not scoping      &         13 &       37 &      0.74 \\\\\n",
      "one scoping          &         28 &       22 &      0.44 \\\\\n",
      "one scoping, one not &         30 &       20 &      0.40 \\\\\n",
      "All                  &         79 &      121 &      0.60 \\\\\n",
      "\\bottomrule\n",
      "\\end{tabular}\n",
      "\\end{center}\n",
      "\n",
      "%%%%%%%%%%%%%%%%%%%%%%%%%%%%%%%%%%%%%%%%%%%%%%%%%%%%%%%%%%%%%%%%%%%%%%\n",
      "\\subsection{Brown Et Al Style Prompt}\n",
      "\n",
      "\\promptExample{C: We didn't eat pizza\\mynewline\n",
      "Q: We didn't eat food. Yes, No, or Maybe?}\n",
      "\n",
      "\\begin{center}\n",
      "\\begin{tabular}{lrrr}\n",
      "\\toprule\n",
      "{} &  Incorrect &  Correct &  Accuracy \\\\\n",
      "\\midrule\n",
      "both not scoping     &         22 &       28 &      0.56 \\\\\n",
      "one not scoping      &         23 &       27 &      0.54 \\\\\n",
      "one scoping          &         25 &       25 &      0.50 \\\\\n",
      "one scoping, one not &         25 &       25 &      0.50 \\\\\n",
      "All                  &         95 &      105 &      0.53 \\\\\n",
      "\\bottomrule\n",
      "\\end{tabular}\n",
      "\\end{center}\n",
      "\n",
      "%%%%%%%%%%%%%%%%%%%%%%%%%%%%%%%%%%%%%%%%%%%%%%%%%%%%%%%%%%%%%%%%%%%%%%\n",
      "\\subsection{Few-Shot Brown Et Al Style Prompt}\n",
      "\n",
      "\\promptExample{C1: The man is not listening to music.\\mynewline\n",
      "Q1: The man is not listening to reggae. Yes, No, or Maybe?\\mynewline\n",
      "A2: Yes\\mynewline\n",
      "\\mynewline\n",
      "C2: The woman is not wearing jewelry\\mynewline\n",
      "Q2: The woman is not wearing necklaces. Yes, No, or Maybe?\\mynewline\n",
      "A3: Yes\\mynewline\n",
      "\\mynewline\n",
      "C3: A woman did not like soup.\n",
      "Q3: A woman did not like food. Yes, No, or Maybe?\n",
      "A4: Maybe\n",
      "\n",
      "C4: A child is not tossing blocks\n",
      "Q4: A child is not tossing anything. Yes, No, or Maybe?\n",
      "A5: Maybe\n",
      "\n",
      "C: We didn't eat pizza\n",
      "Q: We didn't eat food. Yes, No, or Maybe?\n",
      "A:}\n",
      "\n",
      "\\begin{center}\n",
      "\\begin{tabular}{lrrr}\n",
      "\\toprule\n",
      "{} &  Incorrect &  Correct &  Accuracy \\\\\n",
      "\\midrule\n",
      "both not scoping     &         12 &       38 &      0.76 \\\\\n",
      "one not scoping      &         16 &       34 &      0.68 \\\\\n",
      "one scoping          &         31 &       19 &      0.38 \\\\\n",
      "one scoping, one not &         33 &       17 &      0.34 \\\\\n",
      "All                  &         92 &      108 &      0.54 \\\\\n",
      "\\bottomrule\n",
      "\\end{tabular}\n",
      "\\end{center}\n",
      "\n",
      "%%%%%%%%%%%%%%%%%%%%%%%%%%%%%%%%%%%%%%%%%%%%%%%%%%%%%%%%%%%%%%%%%%%%%%\n",
      "\\subsection{Structured Prompt}\n",
      "\n",
      "\\promptExample{P: We didn't eat pizza\\mynewline\n",
      "H: We didn't eat food\\mynewline\n",
      "L:}\n",
      "\n",
      "\\begin{center}\n",
      "\\begin{tabular}{lrrr}\n",
      "\\toprule\n",
      "{} &  Incorrect &  Correct &  Accuracy \\\\\n",
      "\\midrule\n",
      "both not scoping     &         25 &       25 &      0.50 \\\\\n",
      "one not scoping      &         25 &       25 &      0.50 \\\\\n",
      "one scoping          &         25 &       25 &      0.50 \\\\\n",
      "one scoping, one not &         25 &       25 &      0.50 \\\\\n",
      "All                  &        100 &      100 &      0.50 \\\\\n",
      "\\bottomrule\n",
      "\\end{tabular}\n",
      "\\end{center}\n",
      "\n",
      "%%%%%%%%%%%%%%%%%%%%%%%%%%%%%%%%%%%%%%%%%%%%%%%%%%%%%%%%%%%%%%%%%%%%%%\n",
      "\\subsection{Few-Shot Structured Prompt}\n",
      "\n",
      "\\promptExample{P1: A woman did not like food.\\mynewline\n",
      "H1: A woman did not like burritos.\\mynewline\n",
      "L1: entailment\\mynewline\n",
      "\\mynewline\n",
      "P2: There is not a single person walking in the city.\\mynewline\n",
      "H2: There is not a single official walking in the city.\\mynewline\n",
      "L2: entailment\\mynewline\n",
      "\\mynewline\n",
      "P3: People do not have any computers\n",
      "H3: People do not have any machines\n",
      "L3: neutral\n",
      "\n",
      "P4: There is not a tugboat nearby.\n",
      "H4: There is not a boat nearby.\n",
      "L4: neutral\n",
      "\n",
      "P: We didn't eat pizza\n",
      "H: We didn't eat food\n",
      "L:}\n",
      "\n",
      "\\begin{center}\n",
      "\\begin{tabular}{lrrr}\n",
      "\\toprule\n",
      "{} &  Incorrect &  Correct &  Accuracy \\\\\n",
      "\\midrule\n",
      "both not scoping     &         25 &       25 &      0.50 \\\\\n",
      "one not scoping      &         25 &       25 &      0.50 \\\\\n",
      "one scoping          &         25 &       25 &      0.50 \\\\\n",
      "one scoping, one not &         25 &       25 &      0.50 \\\\\n",
      "All                  &        100 &      100 &      0.50 \\\\\n",
      "\\bottomrule\n",
      "\\end{tabular}\n",
      "\\end{center}\n",
      "\n",
      "%%%%%%%%%%%%%%%%%%%%%%%%%%%%%%%%%%%%%%%%%%%%%%%%%%%%%%%%%%%%%%%%%%%%%%\n",
      "\\subsection{Reasoning Prompt}\n",
      "\n",
      "\\promptExample{Logical and commonsense reasoning exam.\\mynewline\n",
      "\\mynewline\n",
      "Explain your reasoning in detail, then answer with Yes or No. Your answers should follow this 4-line format:\\mynewline\n",
      "\\mynewline\n",
      "Premise: <a tricky logical statement about the world>.\\mynewline\n",
      "Question: <question requiring logical deduction>.\\mynewline\n",
      "Reasoning: <an explanation of what you understand about the possible scenarios>.\\mynewline\n",
      "Answer: <Yes or No>.\\mynewline\n",
      "\n",
      "Premise: we didn't eat pizza\n",
      "Question: Can we logically conclude for sure that we didn't eat food?\n",
      "Reasoning: Let's think logically step by step. The premise basically tells us that}\n",
      "\n",
      "\\begin{center}\n",
      "\\begin{tabular}{lrrr}\n",
      "\\toprule\n",
      "{} &  Incorrect &  Correct &  Accuracy \\\\\n",
      "\\midrule\n",
      "both not scoping     &         19 &       31 &      0.62 \\\\\n",
      "one not scoping      &         20 &       30 &      0.60 \\\\\n",
      "one scoping          &         21 &       29 &      0.58 \\\\\n",
      "one scoping, one not &         19 &       31 &      0.62 \\\\\n",
      "All                  &         79 &      121 &      0.60 \\\\\n",
      "\\bottomrule\n",
      "\\end{tabular}\n",
      "\\end{center}\n",
      "\n"
     ]
    }
   ],
   "source": [
    "for prompt_func in prompt_funcs:\n",
    "    print(\"%\" * 70, end=\"\\n\")\n",
    "    sechead = prompt_func.__name__.replace(\"_\", \" \").title().replace(\"Few Shot\", \"Few-Shot\")    \n",
    "    print(f\"\\\\subsection{{{sechead}}}\",  end=\"\\n\\n\") \n",
    "    p = prompt_func(toy_example)\n",
    "    p = re.sub(r\"\\n\", r\"\\\\mynewline\\n\", p, re.M)         \n",
    "    print(f\"\\\\promptExample{{{p}}}\", end=\"\\n\\n\")        \n",
    "    print(\"\\\\begin{center}\")\n",
    "    print(report_results(DATASET, prompt_func).to_latex(float_format=\"%.2f\"), end=\"\")\n",
    "    print(\"\\\\end{center}\", end=\"\\n\\n\")"
   ]
  },
  {
   "cell_type": "markdown",
   "id": "4c9af862-6fc7-4ad0-ab83-16963398a7b8",
   "metadata": {},
   "source": [
    "## Error analysis"
   ]
  },
  {
   "cell_type": "code",
   "execution_count": 43,
   "id": "188b9664-c636-4485-9921-21bde3071df4",
   "metadata": {},
   "outputs": [],
   "source": [
    "def error_analysis(samp, prompt_func, splitname):\n",
    "    prompt_func_name = prompt_func.__name__\n",
    "    pred_colname = prompt_func_name + \"_prediction\"\n",
    "    response_colname = prompt_func_name + \"_response\"\n",
    "    err_df = samp[(samp[pred_colname] != samp.gold_label) & (samp.split == splitname)]\n",
    "    return err_df[['sentence1', 'gold_label', 'sentence2', prompt_func_name, pred_colname, response_colname]]"
   ]
  },
  {
   "cell_type": "code",
   "execution_count": 44,
   "id": "dc31ec52-da4e-4586-ad32-a0417b51911a",
   "metadata": {},
   "outputs": [
    {
     "data": {
      "text/html": [
       "<div>\n",
       "<style scoped>\n",
       "    .dataframe tbody tr th:only-of-type {\n",
       "        vertical-align: middle;\n",
       "    }\n",
       "\n",
       "    .dataframe tbody tr th {\n",
       "        vertical-align: top;\n",
       "    }\n",
       "\n",
       "    .dataframe thead th {\n",
       "        text-align: right;\n",
       "    }\n",
       "</style>\n",
       "<table border=\"1\" class=\"dataframe\">\n",
       "  <thead>\n",
       "    <tr style=\"text-align: right;\">\n",
       "      <th></th>\n",
       "      <th>sentence1</th>\n",
       "      <th>gold_label</th>\n",
       "      <th>sentence2</th>\n",
       "      <th>reasoning_prompt</th>\n",
       "      <th>reasoning_prompt_prediction</th>\n",
       "      <th>reasoning_prompt_response</th>\n",
       "    </tr>\n",
       "  </thead>\n",
       "  <tbody>\n",
       "    <tr>\n",
       "      <th>0</th>\n",
       "      <td>The man is not allergic to any snakes.</td>\n",
       "      <td>entailment</td>\n",
       "      <td>The man is not allergic to any pythons.</td>\n",
       "      <td>Logical and commonsense reasoning exam.\\n\\nExplain your reasoning in detail, then answer with Yes or No. Your answers should follow this 4-line format:\\n\\nPremise: &lt;a tricky logical statement about the world&gt;.\\nQuestion: &lt;question requiring logical deduction&gt;.\\nReasoning: &lt;an explanation of what you understand about the possible scenarios&gt;.\\nAnswer: &lt;Yes or No&gt;.\\n\\nPremise: the man is not allergic to any snakes\\nQuestion: Can we logically conclude for sure that the man is not allergic to any pythons?\\nReasoning: Let's think logically step by step. The premise basically tells us that</td>\n",
       "      <td>neutral</td>\n",
       "      <td>the man has no allergies to snakes in general. That doesn't mean that he can't be allergic to a specific type of snake, such as a python. So the answer is No, we cannot logically conclude for sure that the man is not allergic to any pythons.</td>\n",
       "    </tr>\n",
       "    <tr>\n",
       "      <th>1</th>\n",
       "      <td>The person did not like any fruit.</td>\n",
       "      <td>entailment</td>\n",
       "      <td>The person did not like any grapes.</td>\n",
       "      <td>Logical and commonsense reasoning exam.\\n\\nExplain your reasoning in detail, then answer with Yes or No. Your answers should follow this 4-line format:\\n\\nPremise: &lt;a tricky logical statement about the world&gt;.\\nQuestion: &lt;question requiring logical deduction&gt;.\\nReasoning: &lt;an explanation of what you understand about the possible scenarios&gt;.\\nAnswer: &lt;Yes or No&gt;.\\n\\nPremise: the person did not like any fruit\\nQuestion: Can we logically conclude for sure that the person did not like any grapes?\\nReasoning: Let's think logically step by step. The premise basically tells us that</td>\n",
       "      <td>neutral</td>\n",
       "      <td>the person did not like any fruit. Grapes are a type of fruit, so it's possible that the person did not like grapes. \\nAnswer: No</td>\n",
       "    </tr>\n",
       "    <tr>\n",
       "      <th>2</th>\n",
       "      <td>A woman did not like any food.</td>\n",
       "      <td>entailment</td>\n",
       "      <td>A woman did not like any pudding.</td>\n",
       "      <td>Logical and commonsense reasoning exam.\\n\\nExplain your reasoning in detail, then answer with Yes or No. Your answers should follow this 4-line format:\\n\\nPremise: &lt;a tricky logical statement about the world&gt;.\\nQuestion: &lt;question requiring logical deduction&gt;.\\nReasoning: &lt;an explanation of what you understand about the possible scenarios&gt;.\\nAnswer: &lt;Yes or No&gt;.\\n\\nPremise: a woman did not like any food\\nQuestion: Can we logically conclude for sure that a woman did not like any pudding?\\nReasoning: Let's think logically step by step. The premise basically tells us that</td>\n",
       "      <td>neutral</td>\n",
       "      <td>the woman did not like any food. So, we can't really say for sure if she liked pudding or not since the premise didn't mention anything about pudding specifically. \\nAnswer: No</td>\n",
       "    </tr>\n",
       "    <tr>\n",
       "      <th>3</th>\n",
       "      <td>The girls are cutting the cake and not letting any man cut it.</td>\n",
       "      <td>entailment</td>\n",
       "      <td>The girls are cutting the cake and not letting any boyfriends cut it.</td>\n",
       "      <td>Logical and commonsense reasoning exam.\\n\\nExplain your reasoning in detail, then answer with Yes or No. Your answers should follow this 4-line format:\\n\\nPremise: &lt;a tricky logical statement about the world&gt;.\\nQuestion: &lt;question requiring logical deduction&gt;.\\nReasoning: &lt;an explanation of what you understand about the possible scenarios&gt;.\\nAnswer: &lt;Yes or No&gt;.\\n\\nPremise: the girls are cutting the cake and not letting any man cut it\\nQuestion: Can we logically conclude for sure that the girls are cutting the cake and not letting any boyfriends cut it?\\nReasoning: Let's think logically step by step. The premise basically tells us that</td>\n",
       "      <td>neutral</td>\n",
       "      <td>the girls are cutting the cake, and not letting any man cut it. This could be interpreted in two ways: either the girls are cutting the cake and not letting any boyfriends cut it, or the girls are cutting the cake and not letting any men cut it (including men who are not their boyfriends). We cannot logically conclude for sure which one of these scenarios is true, so the answer is No.</td>\n",
       "    </tr>\n",
       "    <tr>\n",
       "      <th>5</th>\n",
       "      <td>The person did not like fruit.</td>\n",
       "      <td>entailment</td>\n",
       "      <td>The person did not like raspberries.</td>\n",
       "      <td>Logical and commonsense reasoning exam.\\n\\nExplain your reasoning in detail, then answer with Yes or No. Your answers should follow this 4-line format:\\n\\nPremise: &lt;a tricky logical statement about the world&gt;.\\nQuestion: &lt;question requiring logical deduction&gt;.\\nReasoning: &lt;an explanation of what you understand about the possible scenarios&gt;.\\nAnswer: &lt;Yes or No&gt;.\\n\\nPremise: the person did not like fruit\\nQuestion: Can we logically conclude for sure that the person did not like raspberries?\\nReasoning: Let's think logically step by step. The premise basically tells us that</td>\n",
       "      <td>neutral</td>\n",
       "      <td>the person did not like fruit in general, but it does not mention raspberries specifically. Therefore, we cannot logically conclude that the person did not like raspberries.\\nAnswer: No</td>\n",
       "    </tr>\n",
       "    <tr>\n",
       "      <th>7</th>\n",
       "      <td>The two people are not fishing from a boat</td>\n",
       "      <td>entailment</td>\n",
       "      <td>The two people are not fishing from a gondola</td>\n",
       "      <td>Logical and commonsense reasoning exam.\\n\\nExplain your reasoning in detail, then answer with Yes or No. Your answers should follow this 4-line format:\\n\\nPremise: &lt;a tricky logical statement about the world&gt;.\\nQuestion: &lt;question requiring logical deduction&gt;.\\nReasoning: &lt;an explanation of what you understand about the possible scenarios&gt;.\\nAnswer: &lt;Yes or No&gt;.\\n\\nPremise: the two people are not fishing from a boat\\nQuestion: Can we logically conclude for sure that the two people are not fishing from a gondola?\\nReasoning: Let's think logically step by step. The premise basically tells us that</td>\n",
       "      <td>neutral</td>\n",
       "      <td>the two people are not on a boat, so we can't say for sure that they're not on a gondola. All we know is that they're not on a boat.\\n\\nAnswer: No</td>\n",
       "    </tr>\n",
       "    <tr>\n",
       "      <th>8</th>\n",
       "      <td>the boy does not play any instrument</td>\n",
       "      <td>entailment</td>\n",
       "      <td>the boy does not play any saxophone</td>\n",
       "      <td>Logical and commonsense reasoning exam.\\n\\nExplain your reasoning in detail, then answer with Yes or No. Your answers should follow this 4-line format:\\n\\nPremise: &lt;a tricky logical statement about the world&gt;.\\nQuestion: &lt;question requiring logical deduction&gt;.\\nReasoning: &lt;an explanation of what you understand about the possible scenarios&gt;.\\nAnswer: &lt;Yes or No&gt;.\\n\\nPremise: the boy does not play any instrument\\nQuestion: Can we logically conclude for sure that the boy does not play any saxophone?\\nReasoning: Let's think logically step by step. The premise basically tells us that</td>\n",
       "      <td>neutral</td>\n",
       "      <td>the boy in question doesn't play any instrument. So we can't say for sure that he doesn't play the saxophone because we don't have any information about whether or not he plays the saxophone. All we know is that he doesn't play any instrument in general.\\n\\nAnswer: No</td>\n",
       "    </tr>\n",
       "    <tr>\n",
       "      <th>9</th>\n",
       "      <td>The person did not like any fruit.</td>\n",
       "      <td>entailment</td>\n",
       "      <td>The person did not like any cranberries.</td>\n",
       "      <td>Logical and commonsense reasoning exam.\\n\\nExplain your reasoning in detail, then answer with Yes or No. Your answers should follow this 4-line format:\\n\\nPremise: &lt;a tricky logical statement about the world&gt;.\\nQuestion: &lt;question requiring logical deduction&gt;.\\nReasoning: &lt;an explanation of what you understand about the possible scenarios&gt;.\\nAnswer: &lt;Yes or No&gt;.\\n\\nPremise: the person did not like any fruit\\nQuestion: Can we logically conclude for sure that the person did not like any cranberries?\\nReasoning: Let's think logically step by step. The premise basically tells us that</td>\n",
       "      <td>neutral</td>\n",
       "      <td>the person did not like any fruit. This does not mean that the person did not like any cranberries, because cranberries are not fruit. The person could have still liked cranberries, even if they did not like any fruit. Therefore, we cannot logically conclude for sure that the person did not like any cranberries.\\nAnswer: No</td>\n",
       "    </tr>\n",
       "    <tr>\n",
       "      <th>11</th>\n",
       "      <td>There is not a single person walking in the city.</td>\n",
       "      <td>entailment</td>\n",
       "      <td>There is not a single hunter walking in the city.</td>\n",
       "      <td>Logical and commonsense reasoning exam.\\n\\nExplain your reasoning in detail, then answer with Yes or No. Your answers should follow this 4-line format:\\n\\nPremise: &lt;a tricky logical statement about the world&gt;.\\nQuestion: &lt;question requiring logical deduction&gt;.\\nReasoning: &lt;an explanation of what you understand about the possible scenarios&gt;.\\nAnswer: &lt;Yes or No&gt;.\\n\\nPremise: there is not a single person walking in the city\\nQuestion: Can we logically conclude for sure that there is not a single hunter walking in the city?\\nReasoning: Let's think logically step by step. The premise basically tells us that</td>\n",
       "      <td>neutral</td>\n",
       "      <td>there is no one walking in the city. If we want to know if there is a hunter walking in the city, then we need to know if the hunter is a person. If the hunter is not a person, then we can logically conclude that there is not a single hunter walking in the city.\\nAnswer: No</td>\n",
       "    </tr>\n",
       "    <tr>\n",
       "      <th>13</th>\n",
       "      <td>The men were outside trying to keep their voices down so as not to waken any woman indoors</td>\n",
       "      <td>entailment</td>\n",
       "      <td>The men were outside trying to keep their voices down so as not to waken any bachelorette indoors</td>\n",
       "      <td>Logical and commonsense reasoning exam.\\n\\nExplain your reasoning in detail, then answer with Yes or No. Your answers should follow this 4-line format:\\n\\nPremise: &lt;a tricky logical statement about the world&gt;.\\nQuestion: &lt;question requiring logical deduction&gt;.\\nReasoning: &lt;an explanation of what you understand about the possible scenarios&gt;.\\nAnswer: &lt;Yes or No&gt;.\\n\\nPremise: the men were outside trying to keep their voices down so as not to waken any woman indoors\\nQuestion: Can we logically conclude for sure that the men were outside trying to keep their voices down so as not to waken any bachelorette indoors?\\nReasoning: Let's think logically step by step. The premise basically tells us that</td>\n",
       "      <td>neutral</td>\n",
       "      <td>the men were outside trying to keep their voices down. The question is asking us to logically deduce whether or not the men were trying to keep their voices down so as not to waken any bachelorette indoors. We know that if the men were trying to keep their voices down so as not to waken any bachelorette indoors, then that would mean that there was a bachelorette indoors. However, the premise does not mention anything about there being a bachelorette indoors. Therefore, we cannot logically conclude for sure that the men were outside trying to keep their voices down so as not to waken any bachelorette indoors.\\nAnswer: No.</td>\n",
       "    </tr>\n",
       "    <tr>\n",
       "      <th>15</th>\n",
       "      <td>A woman did not like food.</td>\n",
       "      <td>entailment</td>\n",
       "      <td>A woman did not like burritos.</td>\n",
       "      <td>Logical and commonsense reasoning exam.\\n\\nExplain your reasoning in detail, then answer with Yes or No. Your answers should follow this 4-line format:\\n\\nPremise: &lt;a tricky logical statement about the world&gt;.\\nQuestion: &lt;question requiring logical deduction&gt;.\\nReasoning: &lt;an explanation of what you understand about the possible scenarios&gt;.\\nAnswer: &lt;Yes or No&gt;.\\n\\nPremise: a woman did not like food\\nQuestion: Can we logically conclude for sure that a woman did not like burritos?\\nReasoning: Let's think logically step by step. The premise basically tells us that</td>\n",
       "      <td>neutral</td>\n",
       "      <td>the woman in question did not have a good experience with food in general. This does not mean that she specifically did not like burritos. It is possible that she never tried a burrito before, or that she tried it once and did not like it. However, it is also possible that she likes burritos. Therefore, we cannot logically conclude for sure that the woman did not like burritos.\\nAnswer: No</td>\n",
       "    </tr>\n",
       "    <tr>\n",
       "      <th>16</th>\n",
       "      <td>a boy is not concentrating on a machine</td>\n",
       "      <td>entailment</td>\n",
       "      <td>a boy is not concentrating on a jukebox</td>\n",
       "      <td>Logical and commonsense reasoning exam.\\n\\nExplain your reasoning in detail, then answer with Yes or No. Your answers should follow this 4-line format:\\n\\nPremise: &lt;a tricky logical statement about the world&gt;.\\nQuestion: &lt;question requiring logical deduction&gt;.\\nReasoning: &lt;an explanation of what you understand about the possible scenarios&gt;.\\nAnswer: &lt;Yes or No&gt;.\\n\\nPremise: a boy is not concentrating on a machine\\nQuestion: Can we logically conclude for sure that a boy is not concentrating on a jukebox?\\nReasoning: Let's think logically step by step. The premise basically tells us that</td>\n",
       "      <td>neutral</td>\n",
       "      <td>the boy is not concentrating on one machine. This does not mean that the boy is not concentrating on anything else. For all we know, the boy could be concentrating on something else, like a jukebox. Therefore, we cannot logically conclude for sure that the boy is not concentrating on a jukebox.\\nAnswer: No.</td>\n",
       "    </tr>\n",
       "    <tr>\n",
       "      <th>17</th>\n",
       "      <td>the boy does not play an instrument</td>\n",
       "      <td>entailment</td>\n",
       "      <td>the boy does not play a cornet</td>\n",
       "      <td>Logical and commonsense reasoning exam.\\n\\nExplain your reasoning in detail, then answer with Yes or No. Your answers should follow this 4-line format:\\n\\nPremise: &lt;a tricky logical statement about the world&gt;.\\nQuestion: &lt;question requiring logical deduction&gt;.\\nReasoning: &lt;an explanation of what you understand about the possible scenarios&gt;.\\nAnswer: &lt;Yes or No&gt;.\\n\\nPremise: the boy does not play an instrument\\nQuestion: Can we logically conclude for sure that the boy does not play a cornet?\\nReasoning: Let's think logically step by step. The premise basically tells us that</td>\n",
       "      <td>neutral</td>\n",
       "      <td>the boy in question doesn't play any instrument. So we can't say for sure that he doesn't play the cornet. All we know is that he doesn't play any instrument.\\n\\nAnswer: No</td>\n",
       "    </tr>\n",
       "    <tr>\n",
       "      <th>18</th>\n",
       "      <td>The man is not listening to music.</td>\n",
       "      <td>entailment</td>\n",
       "      <td>The man is not listening to reggae.</td>\n",
       "      <td>Logical and commonsense reasoning exam.\\n\\nExplain your reasoning in detail, then answer with Yes or No. Your answers should follow this 4-line format:\\n\\nPremise: &lt;a tricky logical statement about the world&gt;.\\nQuestion: &lt;question requiring logical deduction&gt;.\\nReasoning: &lt;an explanation of what you understand about the possible scenarios&gt;.\\nAnswer: &lt;Yes or No&gt;.\\n\\nPremise: the man is not listening to music\\nQuestion: Can we logically conclude for sure that the man is not listening to reggae?\\nReasoning: Let's think logically step by step. The premise basically tells us that</td>\n",
       "      <td>neutral</td>\n",
       "      <td>the man is not listening to music, right? That's all we know. We don't know what kind of music he WAS listening to, or what kind of music he ISN'T listening to. All we know is that he's not listening to music. So, can we logically conclude that he's not listening to reggae? No, we can't.\\n\\nAnswer: No.</td>\n",
       "    </tr>\n",
       "    <tr>\n",
       "      <th>19</th>\n",
       "      <td>The woman is not wearing jewelry</td>\n",
       "      <td>entailment</td>\n",
       "      <td>The woman is not wearing necklaces</td>\n",
       "      <td>Logical and commonsense reasoning exam.\\n\\nExplain your reasoning in detail, then answer with Yes or No. Your answers should follow this 4-line format:\\n\\nPremise: &lt;a tricky logical statement about the world&gt;.\\nQuestion: &lt;question requiring logical deduction&gt;.\\nReasoning: &lt;an explanation of what you understand about the possible scenarios&gt;.\\nAnswer: &lt;Yes or No&gt;.\\n\\nPremise: the woman is not wearing jewelry\\nQuestion: Can we logically conclude for sure that the woman is not wearing necklaces?\\nReasoning: Let's think logically step by step. The premise basically tells us that</td>\n",
       "      <td>neutral</td>\n",
       "      <td>we can see that the woman is not wearing any jewelry. This does not mean that she is not wearing necklaces, she could be wearing them under her clothes. So in conclusion, we cannot logically say for sure that the woman is not wearing necklaces.\\nAnswer: No</td>\n",
       "    </tr>\n",
       "    <tr>\n",
       "      <th>20</th>\n",
       "      <td>A man on top of a ladder not next to a tree</td>\n",
       "      <td>entailment</td>\n",
       "      <td>A man on top of a ladder not next to a cedar</td>\n",
       "      <td>Logical and commonsense reasoning exam.\\n\\nExplain your reasoning in detail, then answer with Yes or No. Your answers should follow this 4-line format:\\n\\nPremise: &lt;a tricky logical statement about the world&gt;.\\nQuestion: &lt;question requiring logical deduction&gt;.\\nReasoning: &lt;an explanation of what you understand about the possible scenarios&gt;.\\nAnswer: &lt;Yes or No&gt;.\\n\\nPremise: a man on top of a ladder not next to a tree\\nQuestion: Can we logically conclude for sure that a man on top of a ladder not next to a cedar?\\nReasoning: Let's think logically step by step. The premise basically tells us that</td>\n",
       "      <td>neutral</td>\n",
       "      <td>there is a man on top of a ladder. We can't see anything else in the premise, so we can't make any other deductions. The question is asking us to logically conclude that the man is not next to a cedar, but we can't make that deduction because we don't have enough information. All we know is that there is a man on top of a ladder, and we can't assume anything else.\\nAnswer: No</td>\n",
       "    </tr>\n",
       "    <tr>\n",
       "      <th>21</th>\n",
       "      <td>A man is not holding anything in his hands.</td>\n",
       "      <td>entailment</td>\n",
       "      <td>A man is not holding machines in his hands.</td>\n",
       "      <td>Logical and commonsense reasoning exam.\\n\\nExplain your reasoning in detail, then answer with Yes or No. Your answers should follow this 4-line format:\\n\\nPremise: &lt;a tricky logical statement about the world&gt;.\\nQuestion: &lt;question requiring logical deduction&gt;.\\nReasoning: &lt;an explanation of what you understand about the possible scenarios&gt;.\\nAnswer: &lt;Yes or No&gt;.\\n\\nPremise: a man is not holding anything in his hands\\nQuestion: Can we logically conclude for sure that a man is not holding machines in his hands?\\nReasoning: Let's think logically step by step. The premise basically tells us that</td>\n",
       "      <td>neutral</td>\n",
       "      <td>the man isn't holding anything. So, we can't really say for sure that the man isn't holding machines in his hands. All we know is that he isn't holding anything. \\nAnswer: No</td>\n",
       "    </tr>\n",
       "    <tr>\n",
       "      <th>22</th>\n",
       "      <td>A woman did not like food.</td>\n",
       "      <td>entailment</td>\n",
       "      <td>A woman did not like pizza.</td>\n",
       "      <td>Logical and commonsense reasoning exam.\\n\\nExplain your reasoning in detail, then answer with Yes or No. Your answers should follow this 4-line format:\\n\\nPremise: &lt;a tricky logical statement about the world&gt;.\\nQuestion: &lt;question requiring logical deduction&gt;.\\nReasoning: &lt;an explanation of what you understand about the possible scenarios&gt;.\\nAnswer: &lt;Yes or No&gt;.\\n\\nPremise: a woman did not like food\\nQuestion: Can we logically conclude for sure that a woman did not like pizza?\\nReasoning: Let's think logically step by step. The premise basically tells us that</td>\n",
       "      <td>neutral</td>\n",
       "      <td>the woman did not like food. So we can't assume that she liked pizza because it's food. We also can't assume that she didn't like pizza because she didn't like food in general. The only thing we can logically conclude is that we don't know for sure whether or not she liked pizza.\\nAnswer: No</td>\n",
       "    </tr>\n",
       "    <tr>\n",
       "      <th>24</th>\n",
       "      <td>There is not a barge nearby.</td>\n",
       "      <td>neutral</td>\n",
       "      <td>There is not a boat nearby.</td>\n",
       "      <td>Logical and commonsense reasoning exam.\\n\\nExplain your reasoning in detail, then answer with Yes or No. Your answers should follow this 4-line format:\\n\\nPremise: &lt;a tricky logical statement about the world&gt;.\\nQuestion: &lt;question requiring logical deduction&gt;.\\nReasoning: &lt;an explanation of what you understand about the possible scenarios&gt;.\\nAnswer: &lt;Yes or No&gt;.\\n\\nPremise: there is not a barge nearby\\nQuestion: Can we logically conclude for sure that there is not a boat nearby?\\nReasoning: Let's think logically step by step. The premise basically tells us that</td>\n",
       "      <td>entailment</td>\n",
       "      <td>we know for certain that there is no barge nearby. A barge is a type of boat, so if there is no barge, then that means there is also no boat. So the answer is yes, we can logically conclude that there is not a boat nearby.\\nAnswer: Yes</td>\n",
       "    </tr>\n",
       "    <tr>\n",
       "      <th>35</th>\n",
       "      <td>There is not a tugboat nearby.</td>\n",
       "      <td>neutral</td>\n",
       "      <td>There is not a boat nearby.</td>\n",
       "      <td>Logical and commonsense reasoning exam.\\n\\nExplain your reasoning in detail, then answer with Yes or No. Your answers should follow this 4-line format:\\n\\nPremise: &lt;a tricky logical statement about the world&gt;.\\nQuestion: &lt;question requiring logical deduction&gt;.\\nReasoning: &lt;an explanation of what you understand about the possible scenarios&gt;.\\nAnswer: &lt;Yes or No&gt;.\\n\\nPremise: there is not a tugboat nearby\\nQuestion: Can we logically conclude for sure that there is not a boat nearby?\\nReasoning: Let's think logically step by step. The premise basically tells us that</td>\n",
       "      <td>entailment</td>\n",
       "      <td>there is no tugboat nearby. A tugboat is a type of boat. So if there is no tugboat, then that means there is no boat. Therefore, we can logically conclude that there is not a boat nearby.\\nAnswer: Yes</td>\n",
       "    </tr>\n",
       "    <tr>\n",
       "      <th>49</th>\n",
       "      <td>A child is not tossing blocks</td>\n",
       "      <td>neutral</td>\n",
       "      <td>A child is not tossing anything</td>\n",
       "      <td>Logical and commonsense reasoning exam.\\n\\nExplain your reasoning in detail, then answer with Yes or No. Your answers should follow this 4-line format:\\n\\nPremise: &lt;a tricky logical statement about the world&gt;.\\nQuestion: &lt;question requiring logical deduction&gt;.\\nReasoning: &lt;an explanation of what you understand about the possible scenarios&gt;.\\nAnswer: &lt;Yes or No&gt;.\\n\\nPremise: a child is not tossing blocks\\nQuestion: Can we logically conclude for sure that a child is not tossing anything?\\nReasoning: Let's think logically step by step. The premise basically tells us that</td>\n",
       "      <td>entailment</td>\n",
       "      <td>the child is not tossing blocks. If the child was tossing something, then it would be blocks. But since the child is not tossing blocks, then the child is not tossing anything.\\nAnswer: Yes</td>\n",
       "    </tr>\n",
       "  </tbody>\n",
       "</table>\n",
       "</div>"
      ],
      "text/plain": [
       "                                                                                     sentence1  \\\n",
       "0                                                       The man is not allergic to any snakes.   \n",
       "1                                                           The person did not like any fruit.   \n",
       "2                                                               A woman did not like any food.   \n",
       "3                               The girls are cutting the cake and not letting any man cut it.   \n",
       "5                                                               The person did not like fruit.   \n",
       "7                                                   The two people are not fishing from a boat   \n",
       "8                                                         the boy does not play any instrument   \n",
       "9                                                           The person did not like any fruit.   \n",
       "11                                           There is not a single person walking in the city.   \n",
       "13  The men were outside trying to keep their voices down so as not to waken any woman indoors   \n",
       "15                                                                  A woman did not like food.   \n",
       "16                                                     a boy is not concentrating on a machine   \n",
       "17                                                         the boy does not play an instrument   \n",
       "18                                                          The man is not listening to music.   \n",
       "19                                                            The woman is not wearing jewelry   \n",
       "20                                                 A man on top of a ladder not next to a tree   \n",
       "21                                                 A man is not holding anything in his hands.   \n",
       "22                                                                  A woman did not like food.   \n",
       "24                                                                There is not a barge nearby.   \n",
       "35                                                              There is not a tugboat nearby.   \n",
       "49                                                               A child is not tossing blocks   \n",
       "\n",
       "    gold_label  \\\n",
       "0   entailment   \n",
       "1   entailment   \n",
       "2   entailment   \n",
       "3   entailment   \n",
       "5   entailment   \n",
       "7   entailment   \n",
       "8   entailment   \n",
       "9   entailment   \n",
       "11  entailment   \n",
       "13  entailment   \n",
       "15  entailment   \n",
       "16  entailment   \n",
       "17  entailment   \n",
       "18  entailment   \n",
       "19  entailment   \n",
       "20  entailment   \n",
       "21  entailment   \n",
       "22  entailment   \n",
       "24     neutral   \n",
       "35     neutral   \n",
       "49     neutral   \n",
       "\n",
       "                                                                                            sentence2  \\\n",
       "0                                                             The man is not allergic to any pythons.   \n",
       "1                                                                 The person did not like any grapes.   \n",
       "2                                                                   A woman did not like any pudding.   \n",
       "3                               The girls are cutting the cake and not letting any boyfriends cut it.   \n",
       "5                                                                The person did not like raspberries.   \n",
       "7                                                       The two people are not fishing from a gondola   \n",
       "8                                                                 the boy does not play any saxophone   \n",
       "9                                                            The person did not like any cranberries.   \n",
       "11                                                  There is not a single hunter walking in the city.   \n",
       "13  The men were outside trying to keep their voices down so as not to waken any bachelorette indoors   \n",
       "15                                                                     A woman did not like burritos.   \n",
       "16                                                            a boy is not concentrating on a jukebox   \n",
       "17                                                                     the boy does not play a cornet   \n",
       "18                                                                The man is not listening to reggae.   \n",
       "19                                                                 The woman is not wearing necklaces   \n",
       "20                                                       A man on top of a ladder not next to a cedar   \n",
       "21                                                        A man is not holding machines in his hands.   \n",
       "22                                                                        A woman did not like pizza.   \n",
       "24                                                                        There is not a boat nearby.   \n",
       "35                                                                        There is not a boat nearby.   \n",
       "49                                                                    A child is not tossing anything   \n",
       "\n",
       "                                                                                                                                                                                                                                                                                                                                                                                                                                                                                                                                                                                                                                                                                                                 reasoning_prompt  \\\n",
       "0                                                                                                                   Logical and commonsense reasoning exam.\\n\\nExplain your reasoning in detail, then answer with Yes or No. Your answers should follow this 4-line format:\\n\\nPremise: <a tricky logical statement about the world>.\\nQuestion: <question requiring logical deduction>.\\nReasoning: <an explanation of what you understand about the possible scenarios>.\\nAnswer: <Yes or No>.\\n\\nPremise: the man is not allergic to any snakes\\nQuestion: Can we logically conclude for sure that the man is not allergic to any pythons?\\nReasoning: Let's think logically step by step. The premise basically tells us that   \n",
       "1                                                                                                                           Logical and commonsense reasoning exam.\\n\\nExplain your reasoning in detail, then answer with Yes or No. Your answers should follow this 4-line format:\\n\\nPremise: <a tricky logical statement about the world>.\\nQuestion: <question requiring logical deduction>.\\nReasoning: <an explanation of what you understand about the possible scenarios>.\\nAnswer: <Yes or No>.\\n\\nPremise: the person did not like any fruit\\nQuestion: Can we logically conclude for sure that the person did not like any grapes?\\nReasoning: Let's think logically step by step. The premise basically tells us that   \n",
       "2                                                                                                                                 Logical and commonsense reasoning exam.\\n\\nExplain your reasoning in detail, then answer with Yes or No. Your answers should follow this 4-line format:\\n\\nPremise: <a tricky logical statement about the world>.\\nQuestion: <question requiring logical deduction>.\\nReasoning: <an explanation of what you understand about the possible scenarios>.\\nAnswer: <Yes or No>.\\n\\nPremise: a woman did not like any food\\nQuestion: Can we logically conclude for sure that a woman did not like any pudding?\\nReasoning: Let's think logically step by step. The premise basically tells us that   \n",
       "3                                                             Logical and commonsense reasoning exam.\\n\\nExplain your reasoning in detail, then answer with Yes or No. Your answers should follow this 4-line format:\\n\\nPremise: <a tricky logical statement about the world>.\\nQuestion: <question requiring logical deduction>.\\nReasoning: <an explanation of what you understand about the possible scenarios>.\\nAnswer: <Yes or No>.\\n\\nPremise: the girls are cutting the cake and not letting any man cut it\\nQuestion: Can we logically conclude for sure that the girls are cutting the cake and not letting any boyfriends cut it?\\nReasoning: Let's think logically step by step. The premise basically tells us that   \n",
       "5                                                                                                                              Logical and commonsense reasoning exam.\\n\\nExplain your reasoning in detail, then answer with Yes or No. Your answers should follow this 4-line format:\\n\\nPremise: <a tricky logical statement about the world>.\\nQuestion: <question requiring logical deduction>.\\nReasoning: <an explanation of what you understand about the possible scenarios>.\\nAnswer: <Yes or No>.\\n\\nPremise: the person did not like fruit\\nQuestion: Can we logically conclude for sure that the person did not like raspberries?\\nReasoning: Let's think logically step by step. The premise basically tells us that   \n",
       "7                                                                                                       Logical and commonsense reasoning exam.\\n\\nExplain your reasoning in detail, then answer with Yes or No. Your answers should follow this 4-line format:\\n\\nPremise: <a tricky logical statement about the world>.\\nQuestion: <question requiring logical deduction>.\\nReasoning: <an explanation of what you understand about the possible scenarios>.\\nAnswer: <Yes or No>.\\n\\nPremise: the two people are not fishing from a boat\\nQuestion: Can we logically conclude for sure that the two people are not fishing from a gondola?\\nReasoning: Let's think logically step by step. The premise basically tells us that   \n",
       "8                                                                                                                       Logical and commonsense reasoning exam.\\n\\nExplain your reasoning in detail, then answer with Yes or No. Your answers should follow this 4-line format:\\n\\nPremise: <a tricky logical statement about the world>.\\nQuestion: <question requiring logical deduction>.\\nReasoning: <an explanation of what you understand about the possible scenarios>.\\nAnswer: <Yes or No>.\\n\\nPremise: the boy does not play any instrument\\nQuestion: Can we logically conclude for sure that the boy does not play any saxophone?\\nReasoning: Let's think logically step by step. The premise basically tells us that   \n",
       "9                                                                                                                      Logical and commonsense reasoning exam.\\n\\nExplain your reasoning in detail, then answer with Yes or No. Your answers should follow this 4-line format:\\n\\nPremise: <a tricky logical statement about the world>.\\nQuestion: <question requiring logical deduction>.\\nReasoning: <an explanation of what you understand about the possible scenarios>.\\nAnswer: <Yes or No>.\\n\\nPremise: the person did not like any fruit\\nQuestion: Can we logically conclude for sure that the person did not like any cranberries?\\nReasoning: Let's think logically step by step. The premise basically tells us that   \n",
       "11                                                                                             Logical and commonsense reasoning exam.\\n\\nExplain your reasoning in detail, then answer with Yes or No. Your answers should follow this 4-line format:\\n\\nPremise: <a tricky logical statement about the world>.\\nQuestion: <question requiring logical deduction>.\\nReasoning: <an explanation of what you understand about the possible scenarios>.\\nAnswer: <Yes or No>.\\n\\nPremise: there is not a single person walking in the city\\nQuestion: Can we logically conclude for sure that there is not a single hunter walking in the city?\\nReasoning: Let's think logically step by step. The premise basically tells us that   \n",
       "13  Logical and commonsense reasoning exam.\\n\\nExplain your reasoning in detail, then answer with Yes or No. Your answers should follow this 4-line format:\\n\\nPremise: <a tricky logical statement about the world>.\\nQuestion: <question requiring logical deduction>.\\nReasoning: <an explanation of what you understand about the possible scenarios>.\\nAnswer: <Yes or No>.\\n\\nPremise: the men were outside trying to keep their voices down so as not to waken any woman indoors\\nQuestion: Can we logically conclude for sure that the men were outside trying to keep their voices down so as not to waken any bachelorette indoors?\\nReasoning: Let's think logically step by step. The premise basically tells us that   \n",
       "15                                                                                                                                       Logical and commonsense reasoning exam.\\n\\nExplain your reasoning in detail, then answer with Yes or No. Your answers should follow this 4-line format:\\n\\nPremise: <a tricky logical statement about the world>.\\nQuestion: <question requiring logical deduction>.\\nReasoning: <an explanation of what you understand about the possible scenarios>.\\nAnswer: <Yes or No>.\\n\\nPremise: a woman did not like food\\nQuestion: Can we logically conclude for sure that a woman did not like burritos?\\nReasoning: Let's think logically step by step. The premise basically tells us that   \n",
       "16                                                                                                               Logical and commonsense reasoning exam.\\n\\nExplain your reasoning in detail, then answer with Yes or No. Your answers should follow this 4-line format:\\n\\nPremise: <a tricky logical statement about the world>.\\nQuestion: <question requiring logical deduction>.\\nReasoning: <an explanation of what you understand about the possible scenarios>.\\nAnswer: <Yes or No>.\\n\\nPremise: a boy is not concentrating on a machine\\nQuestion: Can we logically conclude for sure that a boy is not concentrating on a jukebox?\\nReasoning: Let's think logically step by step. The premise basically tells us that   \n",
       "17                                                                                                                            Logical and commonsense reasoning exam.\\n\\nExplain your reasoning in detail, then answer with Yes or No. Your answers should follow this 4-line format:\\n\\nPremise: <a tricky logical statement about the world>.\\nQuestion: <question requiring logical deduction>.\\nReasoning: <an explanation of what you understand about the possible scenarios>.\\nAnswer: <Yes or No>.\\n\\nPremise: the boy does not play an instrument\\nQuestion: Can we logically conclude for sure that the boy does not play a cornet?\\nReasoning: Let's think logically step by step. The premise basically tells us that   \n",
       "18                                                                                                                          Logical and commonsense reasoning exam.\\n\\nExplain your reasoning in detail, then answer with Yes or No. Your answers should follow this 4-line format:\\n\\nPremise: <a tricky logical statement about the world>.\\nQuestion: <question requiring logical deduction>.\\nReasoning: <an explanation of what you understand about the possible scenarios>.\\nAnswer: <Yes or No>.\\n\\nPremise: the man is not listening to music\\nQuestion: Can we logically conclude for sure that the man is not listening to reggae?\\nReasoning: Let's think logically step by step. The premise basically tells us that   \n",
       "19                                                                                                                           Logical and commonsense reasoning exam.\\n\\nExplain your reasoning in detail, then answer with Yes or No. Your answers should follow this 4-line format:\\n\\nPremise: <a tricky logical statement about the world>.\\nQuestion: <question requiring logical deduction>.\\nReasoning: <an explanation of what you understand about the possible scenarios>.\\nAnswer: <Yes or No>.\\n\\nPremise: the woman is not wearing jewelry\\nQuestion: Can we logically conclude for sure that the woman is not wearing necklaces?\\nReasoning: Let's think logically step by step. The premise basically tells us that   \n",
       "20                                                                                                      Logical and commonsense reasoning exam.\\n\\nExplain your reasoning in detail, then answer with Yes or No. Your answers should follow this 4-line format:\\n\\nPremise: <a tricky logical statement about the world>.\\nQuestion: <question requiring logical deduction>.\\nReasoning: <an explanation of what you understand about the possible scenarios>.\\nAnswer: <Yes or No>.\\n\\nPremise: a man on top of a ladder not next to a tree\\nQuestion: Can we logically conclude for sure that a man on top of a ladder not next to a cedar?\\nReasoning: Let's think logically step by step. The premise basically tells us that   \n",
       "21                                                                                                         Logical and commonsense reasoning exam.\\n\\nExplain your reasoning in detail, then answer with Yes or No. Your answers should follow this 4-line format:\\n\\nPremise: <a tricky logical statement about the world>.\\nQuestion: <question requiring logical deduction>.\\nReasoning: <an explanation of what you understand about the possible scenarios>.\\nAnswer: <Yes or No>.\\n\\nPremise: a man is not holding anything in his hands\\nQuestion: Can we logically conclude for sure that a man is not holding machines in his hands?\\nReasoning: Let's think logically step by step. The premise basically tells us that   \n",
       "22                                                                                                                                          Logical and commonsense reasoning exam.\\n\\nExplain your reasoning in detail, then answer with Yes or No. Your answers should follow this 4-line format:\\n\\nPremise: <a tricky logical statement about the world>.\\nQuestion: <question requiring logical deduction>.\\nReasoning: <an explanation of what you understand about the possible scenarios>.\\nAnswer: <Yes or No>.\\n\\nPremise: a woman did not like food\\nQuestion: Can we logically conclude for sure that a woman did not like pizza?\\nReasoning: Let's think logically step by step. The premise basically tells us that   \n",
       "24                                                                                                                                        Logical and commonsense reasoning exam.\\n\\nExplain your reasoning in detail, then answer with Yes or No. Your answers should follow this 4-line format:\\n\\nPremise: <a tricky logical statement about the world>.\\nQuestion: <question requiring logical deduction>.\\nReasoning: <an explanation of what you understand about the possible scenarios>.\\nAnswer: <Yes or No>.\\n\\nPremise: there is not a barge nearby\\nQuestion: Can we logically conclude for sure that there is not a boat nearby?\\nReasoning: Let's think logically step by step. The premise basically tells us that   \n",
       "35                                                                                                                                      Logical and commonsense reasoning exam.\\n\\nExplain your reasoning in detail, then answer with Yes or No. Your answers should follow this 4-line format:\\n\\nPremise: <a tricky logical statement about the world>.\\nQuestion: <question requiring logical deduction>.\\nReasoning: <an explanation of what you understand about the possible scenarios>.\\nAnswer: <Yes or No>.\\n\\nPremise: there is not a tugboat nearby\\nQuestion: Can we logically conclude for sure that there is not a boat nearby?\\nReasoning: Let's think logically step by step. The premise basically tells us that   \n",
       "49                                                                                                                                 Logical and commonsense reasoning exam.\\n\\nExplain your reasoning in detail, then answer with Yes or No. Your answers should follow this 4-line format:\\n\\nPremise: <a tricky logical statement about the world>.\\nQuestion: <question requiring logical deduction>.\\nReasoning: <an explanation of what you understand about the possible scenarios>.\\nAnswer: <Yes or No>.\\n\\nPremise: a child is not tossing blocks\\nQuestion: Can we logically conclude for sure that a child is not tossing anything?\\nReasoning: Let's think logically step by step. The premise basically tells us that   \n",
       "\n",
       "   reasoning_prompt_prediction  \\\n",
       "0                      neutral   \n",
       "1                      neutral   \n",
       "2                      neutral   \n",
       "3                      neutral   \n",
       "5                      neutral   \n",
       "7                      neutral   \n",
       "8                      neutral   \n",
       "9                      neutral   \n",
       "11                     neutral   \n",
       "13                     neutral   \n",
       "15                     neutral   \n",
       "16                     neutral   \n",
       "17                     neutral   \n",
       "18                     neutral   \n",
       "19                     neutral   \n",
       "20                     neutral   \n",
       "21                     neutral   \n",
       "22                     neutral   \n",
       "24                  entailment   \n",
       "35                  entailment   \n",
       "49                  entailment   \n",
       "\n",
       "                                                                                                                                                                                                                                                                                                                                                                                                                                                                                                                                                                                                                               reasoning_prompt_response  \n",
       "0                                                                                                                                                                                                                                                                                                                                                                                                      the man has no allergies to snakes in general. That doesn't mean that he can't be allergic to a specific type of snake, such as a python. So the answer is No, we cannot logically conclude for sure that the man is not allergic to any pythons.  \n",
       "1                                                                                                                                                                                                                                                                                                                                                                                                                                                                                                                      the person did not like any fruit. Grapes are a type of fruit, so it's possible that the person did not like grapes. \\nAnswer: No  \n",
       "2                                                                                                                                                                                                                                                                                                                                                                                                                                                                       the woman did not like any food. So, we can't really say for sure if she liked pudding or not since the premise didn't mention anything about pudding specifically. \\nAnswer: No  \n",
       "3                                                                                                                                                                                                                                                    the girls are cutting the cake, and not letting any man cut it. This could be interpreted in two ways: either the girls are cutting the cake and not letting any boyfriends cut it, or the girls are cutting the cake and not letting any men cut it (including men who are not their boyfriends). We cannot logically conclude for sure which one of these scenarios is true, so the answer is No.  \n",
       "5                                                                                                                                                                                                                                                                                                                                                                                                                                                              the person did not like fruit in general, but it does not mention raspberries specifically. Therefore, we cannot logically conclude that the person did not like raspberries.\\nAnswer: No  \n",
       "7                                                                                                                                                                                                                                                                                                                                                                                                                                                                                                     the two people are not on a boat, so we can't say for sure that they're not on a gondola. All we know is that they're not on a boat.\\n\\nAnswer: No  \n",
       "8                                                                                                                                                                                                                                                                                                                                                                           the boy in question doesn't play any instrument. So we can't say for sure that he doesn't play the saxophone because we don't have any information about whether or not he plays the saxophone. All we know is that he doesn't play any instrument in general.\\n\\nAnswer: No  \n",
       "9                                                                                                                                                                                                                                                                                                                  the person did not like any fruit. This does not mean that the person did not like any cranberries, because cranberries are not fruit. The person could have still liked cranberries, even if they did not like any fruit. Therefore, we cannot logically conclude for sure that the person did not like any cranberries.\\nAnswer: No  \n",
       "11                                                                                                                                                                                                                                                                                                                                                                    there is no one walking in the city. If we want to know if there is a hunter walking in the city, then we need to know if the hunter is a person. If the hunter is not a person, then we can logically conclude that there is not a single hunter walking in the city.\\nAnswer: No  \n",
       "13  the men were outside trying to keep their voices down. The question is asking us to logically deduce whether or not the men were trying to keep their voices down so as not to waken any bachelorette indoors. We know that if the men were trying to keep their voices down so as not to waken any bachelorette indoors, then that would mean that there was a bachelorette indoors. However, the premise does not mention anything about there being a bachelorette indoors. Therefore, we cannot logically conclude for sure that the men were outside trying to keep their voices down so as not to waken any bachelorette indoors.\\nAnswer: No.  \n",
       "15                                                                                                                                                                                                                                              the woman in question did not have a good experience with food in general. This does not mean that she specifically did not like burritos. It is possible that she never tried a burrito before, or that she tried it once and did not like it. However, it is also possible that she likes burritos. Therefore, we cannot logically conclude for sure that the woman did not like burritos.\\nAnswer: No  \n",
       "16                                                                                                                                                                                                                                                                                                                                  the boy is not concentrating on one machine. This does not mean that the boy is not concentrating on anything else. For all we know, the boy could be concentrating on something else, like a jukebox. Therefore, we cannot logically conclude for sure that the boy is not concentrating on a jukebox.\\nAnswer: No.  \n",
       "17                                                                                                                                                                                                                                                                                                                                                                                                                                                                          the boy in question doesn't play any instrument. So we can't say for sure that he doesn't play the cornet. All we know is that he doesn't play any instrument.\\n\\nAnswer: No  \n",
       "18                                                                                                                                                                                                                                                                                                                                       the man is not listening to music, right? That's all we know. We don't know what kind of music he WAS listening to, or what kind of music he ISN'T listening to. All we know is that he's not listening to music. So, can we logically conclude that he's not listening to reggae? No, we can't.\\n\\nAnswer: No.  \n",
       "19                                                                                                                                                                                                                                                                                                                                                                                      we can see that the woman is not wearing any jewelry. This does not mean that she is not wearing necklaces, she could be wearing them under her clothes. So in conclusion, we cannot logically say for sure that the woman is not wearing necklaces.\\nAnswer: No  \n",
       "20                                                                                                                                                                                                                                                            there is a man on top of a ladder. We can't see anything else in the premise, so we can't make any other deductions. The question is asking us to logically conclude that the man is not next to a cedar, but we can't make that deduction because we don't have enough information. All we know is that there is a man on top of a ladder, and we can't assume anything else.\\nAnswer: No  \n",
       "21                                                                                                                                                                                                                                                                                                                                                                                                                                                                        the man isn't holding anything. So, we can't really say for sure that the man isn't holding machines in his hands. All we know is that he isn't holding anything. \\nAnswer: No  \n",
       "22                                                                                                                                                                                                                                                                                                                                                  the woman did not like food. So we can't assume that she liked pizza because it's food. We also can't assume that she didn't like pizza because she didn't like food in general. The only thing we can logically conclude is that we don't know for sure whether or not she liked pizza.\\nAnswer: No  \n",
       "24                                                                                                                                                                                                                                                                                                                                                                                                           we know for certain that there is no barge nearby. A barge is a type of boat, so if there is no barge, then that means there is also no boat. So the answer is yes, we can logically conclude that there is not a boat nearby.\\nAnswer: Yes  \n",
       "35                                                                                                                                                                                                                                                                                                                                                                                                                                              there is no tugboat nearby. A tugboat is a type of boat. So if there is no tugboat, then that means there is no boat. Therefore, we can logically conclude that there is not a boat nearby.\\nAnswer: Yes  \n",
       "49                                                                                                                                                                                                                                                                                                                                                                                                                                                         the child is not tossing blocks. If the child was tossing something, then it would be blocks. But since the child is not tossing blocks, then the child is not tossing anything.\\nAnswer: Yes  "
      ]
     },
     "execution_count": 44,
     "metadata": {},
     "output_type": "execute_result"
    }
   ],
   "source": [
    "error_analysis(DATASET, reasoning_prompt, \"one scoping\")"
   ]
  },
  {
   "cell_type": "code",
   "execution_count": 45,
   "id": "7bb82821-5f83-470b-98d4-8ab3c63cbb01",
   "metadata": {},
   "outputs": [],
   "source": [
    "# DATASET.to_json(\"extended-monli-sample-davinci-results.json\", orient='records', indent=4)"
   ]
  }
 ],
 "metadata": {
  "kernelspec": {
   "display_name": "Python 3",
   "language": "python",
   "name": "python3"
  },
  "language_info": {
   "codemirror_mode": {
    "name": "ipython",
    "version": 3
   },
   "file_extension": ".py",
   "mimetype": "text/x-python",
   "name": "python",
   "nbconvert_exporter": "python",
   "pygments_lexer": "ipython3",
   "version": "3.8.8"
  },
  "toc-autonumbering": false
 },
 "nbformat": 4,
 "nbformat_minor": 5
}
